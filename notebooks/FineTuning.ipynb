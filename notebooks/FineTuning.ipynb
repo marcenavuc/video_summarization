{
 "cells": [
  {
   "cell_type": "code",
   "execution_count": null,
   "id": "975dcbc4",
   "metadata": {},
   "outputs": [],
   "source": [
    "# Если ничего не будет получаться, то попробовать дистилирвоанный берт из этого гайда\n",
    "# https://github.com/rasbt/blog-finetuning-llama-adapters/blob/main/three-conventional-methods/1_distilbert-feature-extractor.ipynb\n",
    "# Чтобы тюнить, нужно покупать а100\n",
    "\n",
    "\n",
    "# https://replicate.com/blog/fine-tune-alpaca-with-lora\n",
    "# https://github.com/Lightning-AI/lit-llama\n",
    "# https://github.com/Lightning-AI/lit-llama/blob/main/howto/finetune_lora.md\n",
    "# https://github.com/Lightning-AI/lit-llama/blob/main/howto/finetune_adapter.md#tune-on-your-dataset"
   ]
  }
 ],
 "metadata": {
  "kernelspec": {
   "display_name": "Python 3 (ipykernel)",
   "language": "python",
   "name": "python3"
  },
  "language_info": {
   "codemirror_mode": {
    "name": "ipython",
    "version": 3
   },
   "file_extension": ".py",
   "mimetype": "text/x-python",
   "name": "python",
   "nbconvert_exporter": "python",
   "pygments_lexer": "ipython3",
   "version": "3.10.10"
  }
 },
 "nbformat": 4,
 "nbformat_minor": 5
}
