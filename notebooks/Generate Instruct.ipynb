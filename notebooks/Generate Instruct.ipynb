{
 "cells": [
  {
   "cell_type": "code",
   "execution_count": 1,
   "id": "321387b5",
   "metadata": {},
   "outputs": [],
   "source": [
    "import yaml\n",
    "import os"
   ]
  },
  {
   "cell_type": "code",
   "execution_count": 2,
   "id": "1a8a7a32",
   "metadata": {},
   "outputs": [
    {
     "data": {
      "text/plain": [
       "['videos/Jumps.mp4',\n",
       " 'videos/xxdtq8mxegs.mp4',\n",
       " 'videos/qqR6AEXwxoQ.mp4',\n",
       " 'videos/E11zDS9XGzg.mp4',\n",
       " 'videos/Base_Jumping.mp4',\n",
       " 'videos/Hl-__g2gn_A.mp4',\n",
       " 'videos/JgHubY5Vw3Y.mp4',\n",
       " 'videos/b626MiF1ew4.mp4',\n",
       " 'videos/Car_Railcrossing.mp4',\n",
       " 'videos/0tmA_C6XwfM.mp4',\n",
       " 'videos/XkqCExn6_Us.mp4',\n",
       " 'videos/sTEELN-vY30.mp4',\n",
       " 'videos/WG0MBPpPC6I.mp4',\n",
       " 'videos/Fire_Domino.mp4',\n",
       " 'videos/91IHQYk1IQM.mp4',\n",
       " 'videos/XzYM3PfTM4w.mp4',\n",
       " 'videos/vdmoEJ5YbrQ.mp4',\n",
       " 'videos/-esJrBWj2d8.mp4',\n",
       " 'videos/Eiffel_Tower.mp4',\n",
       " 'videos/HT5vyqe0Xaw.mp4',\n",
       " 'videos/NyBmCxDoHJU.mp4',\n",
       " 'videos/Cooking.mp4',\n",
       " 'videos/RBCABdttQmI.mp4',\n",
       " 'videos/Bhxk-O1Y7Ho.mp4',\n",
       " 'videos/z_6gVvQb2d0.mp4',\n",
       " 'videos/Saving_Dolphines.mp4',\n",
       " 'videos/Scuba.mp4',\n",
       " 'videos/Cockpit_Landing.mp4',\n",
       " 'videos/J0nA4VgnoCo.mp4',\n",
       " 'videos/Kids_Playing_In_Leaves.mp4',\n",
       " 'videos/Air_Force_One.mp4',\n",
       " 'videos/PJrm840pAUI.mp4',\n",
       " 'videos/LRw_obCPUt0.mp4',\n",
       " 'videos/AwmHb44_ouw.mp4',\n",
       " 'videos/fWutDQy1nnY.mp4',\n",
       " 'videos/3eYKfiOEJNs.mp4',\n",
       " 'videos/Playing_Ball.mp4',\n",
       " 'videos/St_Maarten_Landing.mp4',\n",
       " 'videos/Notre_Dame.mp4',\n",
       " 'videos/Excavators_River_Crossing.mp4',\n",
       " 'videos/byxOvuiIJV0.mp4',\n",
       " 'videos/Se3oxnaPsz0.mp4',\n",
       " 'videos/Playing_On_Water_Slide.mp4',\n",
       " 'videos/Statue_Of_Liberty.mp4',\n",
       " 'videos/Bike_Polo.mp4',\n",
       " 'videos/98MoyGZKHXc.mp4',\n",
       " 'videos/xwqBXPGE9pQ.mp4',\n",
       " 'videos/Car_Over_Camera.mp4',\n",
       " 'videos/4wU_LUjG5Ic.mp4',\n",
       " 'videos/akI8YFjEmUw.mp4',\n",
       " 'videos/_xMr-HKMfVA.mp4',\n",
       " 'videos/i3wAGJaaktw.mp4',\n",
       " 'videos/EYqVtI9YWJA.mp4',\n",
       " 'videos/xmEERLqJ2kU.mp4',\n",
       " 'videos/37rzWOQsNIw.mp4',\n",
       " 'videos/Paintball.mp4',\n",
       " 'videos/EE-bNr36nyA.mp4',\n",
       " 'videos/Bus_In_Rock_Tunnel.mp4',\n",
       " 'videos/cjibtmSLxQ4.mp4',\n",
       " 'videos/Paluma_Jump.mp4',\n",
       " 'videos/VuWGsYPqAX8.mp4',\n",
       " 'videos/gzDbaEs1Rlg.mp4',\n",
       " 'videos/eQu1rNs0an0.mp4',\n",
       " 'videos/JKpqYvAdIsw.mp4',\n",
       " 'videos/kLxoNp-UchI.mp4',\n",
       " 'videos/oDXZc0tZe04.mp4',\n",
       " 'videos/iVt07TCkFM0.mp4',\n",
       " 'videos/Yi4Ij2NM7U4.mp4',\n",
       " 'videos/Uncut_Evening_Flight.mp4',\n",
       " 'videos/WxtbjNsCQ8A.mp4',\n",
       " 'videos/uGu_10sucQo.mp4',\n",
       " 'videos/GsAD1KT1xo8.mp4',\n",
       " 'videos/Bearpark_Climbing.mp4',\n",
       " 'videos/jcoYJXDG9sw.mp4',\n",
       " 'videos/Valparaiso_Downhill.mp4']"
      ]
     },
     "execution_count": 2,
     "metadata": {},
     "output_type": "execute_result"
    }
   ],
   "source": [
    "videos = os.listdir(\"../datasets/videos/\")\n",
    "videos = list(map(lambda x: os.path.join(\"videos\", x), videos))\n",
    "videos"
   ]
  },
  {
   "cell_type": "code",
   "execution_count": 3,
   "id": "b80e1cdf",
   "metadata": {},
   "outputs": [
    {
     "name": "stdout",
     "output_type": "stream",
     "text": [
      "python ../video_summarization/pipelines/create_instruct_dataset.py video_path=videos/Jumps.mp4\n",
      "[2023-04-30 21:54:57,682][HYDRA] /home/mark/miniconda3/envs/diplom/lib/python3.10/site-packages/hydra/_internal/hydra.py:119: UserWarning: Future Hydra versions will no longer change working directory at job runtime by default.\n",
      "See https://hydra.cc/docs/1.2/upgrades/1.1_to_1.2/changes_to_job_working_dir/ for more information.\n",
      "  ret = run_job(\n",
      "\n",
      "[2023-04-30 21:55:09,630][__main__][INFO] - Load labels\n",
      "FPS 25\n",
      "MoviePy - Writing audio in /home/mark/PycharmProjects/video_summarization/workspace/Jumps.mp3\n"
     ]
    },
    {
     "name": "stderr",
     "output_type": "stream",
     "text": [
      "                                                                    \r"
     ]
    },
    {
     "name": "stdout",
     "output_type": "stream",
     "text": [
      "MoviePy - Done.\n",
      "[2023-04-30 21:55:10,233][__main__][INFO] - Converted video to image\n",
      "[2023-04-30 21:55:25,259][__main__][INFO] - Got image caption\n",
      "Batch: start 0, end 37\n",
      "Batch size 38 ann size 38\n",
      "Saved in /home/mark/PycharmProjects/video_summarization/workspace/instructions_Jumps.json\n",
      "python ../video_summarization/pipelines/create_instruct_dataset.py video_path=videos/xxdtq8mxegs.mp4\n",
      "[2023-04-30 21:55:31,957][HYDRA] /home/mark/miniconda3/envs/diplom/lib/python3.10/site-packages/hydra/_internal/hydra.py:119: UserWarning: Future Hydra versions will no longer change working directory at job runtime by default.\n",
      "See https://hydra.cc/docs/1.2/upgrades/1.1_to_1.2/changes_to_job_working_dir/ for more information.\n",
      "  ret = run_job(\n",
      "\n",
      "[2023-04-30 21:55:38,514][__main__][INFO] - Load labels\n",
      "FPS 30\n",
      "MoviePy - Writing audio in /home/mark/PycharmProjects/video_summarization/workspace/xxdtq8mxegs.mp3\n"
     ]
    },
    {
     "name": "stderr",
     "output_type": "stream",
     "text": [
      "                                                                      \r"
     ]
    },
    {
     "name": "stdout",
     "output_type": "stream",
     "text": [
      "MoviePy - Done.\n",
      "[2023-04-30 21:55:40,166][__main__][INFO] - Converted video to image\n",
      "[2023-04-30 21:56:41,817][__main__][INFO] - Got image caption\n",
      "Batch: start 0, end 24\n",
      "Batch size 25 ann size 25\n",
      "Batch: start 25, end 44\n",
      "Batch size 20 ann size 20\n",
      "Batch: start 45, end 67\n",
      "Batch size 23 ann size 23\n",
      "Batch: start 68, end 87\n",
      "Batch size 20 ann size 20\n",
      "Batch: start 88, end 104\n",
      "Batch size 17 ann size 17\n",
      "Batch: start 105, end 122\n",
      "Batch size 18 ann size 18\n",
      "Batch: start 123, end 144\n",
      "Batch size 22 ann size 22\n",
      "Saved in /home/mark/PycharmProjects/video_summarization/workspace/instructions_xxdtq8mxegs.json\n",
      "python ../video_summarization/pipelines/create_instruct_dataset.py video_path=videos/qqR6AEXwxoQ.mp4\n",
      "[2023-04-30 21:56:49,446][HYDRA] /home/mark/miniconda3/envs/diplom/lib/python3.10/site-packages/hydra/_internal/hydra.py:119: UserWarning: Future Hydra versions will no longer change working directory at job runtime by default.\n",
      "See https://hydra.cc/docs/1.2/upgrades/1.1_to_1.2/changes_to_job_working_dir/ for more information.\n",
      "  ret = run_job(\n",
      "\n",
      "[2023-04-30 21:57:00,360][__main__][INFO] - Load labels\n",
      "FPS 29\n",
      "MoviePy - Writing audio in /home/mark/PycharmProjects/video_summarization/workspace/qqR6AEXwxoQ.mp3\n"
     ]
    },
    {
     "name": "stderr",
     "output_type": "stream",
     "text": [
      "                                                                      \r"
     ]
    },
    {
     "name": "stdout",
     "output_type": "stream",
     "text": [
      "MoviePy - Done.\n",
      "[2023-04-30 21:57:04,407][__main__][INFO] - Converted video to image\n",
      "[2023-04-30 21:59:08,651][__main__][INFO] - Got image caption\n",
      "Batch: start 0, end 17\n",
      "Batch size 18 ann size 18\n",
      "Batch: start 18, end 36\n",
      "Batch size 19 ann size 19\n",
      "Batch: start 37, end 52\n",
      "Batch size 16 ann size 16\n",
      "Batch: start 53, end 75\n",
      "Batch size 23 ann size 23\n",
      "Batch: start 76, end 94\n",
      "Batch size 19 ann size 19\n",
      "Batch: start 95, end 114\n",
      "Batch size 20 ann size 20\n",
      "Batch: start 115, end 132\n",
      "Batch size 18 ann size 18\n",
      "Batch: start 133, end 171\n",
      "Batch size 39 ann size 39\n",
      "Batch: start 172, end 199\n",
      "Batch size 28 ann size 28\n",
      "Batch: start 200, end 218\n",
      "Batch size 19 ann size 19\n",
      "Batch: start 219, end 236\n",
      "Batch size 18 ann size 18\n",
      "Batch: start 237, end 257\n",
      "Batch size 21 ann size 21\n",
      "Batch: start 258, end 278\n",
      "Batch size 21 ann size 21\n",
      "Saved in /home/mark/PycharmProjects/video_summarization/workspace/instructions_qqR6AEXwxoQ.json\n",
      "python ../video_summarization/pipelines/create_instruct_dataset.py video_path=videos/E11zDS9XGzg.mp4\n",
      "[2023-04-30 21:59:19,829][HYDRA] /home/mark/miniconda3/envs/diplom/lib/python3.10/site-packages/hydra/_internal/hydra.py:119: UserWarning: Future Hydra versions will no longer change working directory at job runtime by default.\n",
      "See https://hydra.cc/docs/1.2/upgrades/1.1_to_1.2/changes_to_job_working_dir/ for more information.\n",
      "  ret = run_job(\n",
      "\n",
      "[2023-04-30 21:59:32,999][__main__][INFO] - Load labels\n",
      "FPS 30\n",
      "MoviePy - Writing audio in /home/mark/PycharmProjects/video_summarization/workspace/E11zDS9XGzg.mp3\n"
     ]
    },
    {
     "name": "stderr",
     "output_type": "stream",
     "text": [
      "                                                                        \r"
     ]
    },
    {
     "name": "stdout",
     "output_type": "stream",
     "text": [
      "MoviePy - Done.\n",
      "[2023-04-30 21:59:40,445][__main__][INFO] - Converted video to image\n",
      "[2023-04-30 22:03:34,466][__main__][INFO] - Got image caption\n",
      "Batch: start 0, end 31\n",
      "Batch size 32 ann size 32\n",
      "Batch: start 32, end 70\n",
      "Batch size 39 ann size 39\n",
      "Batch: start 71, end 101\n",
      "Batch size 31 ann size 31\n",
      "Batch: start 102, end 148\n",
      "Batch size 47 ann size 47\n",
      "Batch: start 149, end 185\n",
      "Batch size 37 ann size 37\n",
      "Batch: start 186, end 224\n",
      "Batch size 39 ann size 39\n",
      "Batch: start 225, end 265\n",
      "Batch size 41 ann size 41\n",
      "Batch: start 266, end 302\n",
      "Batch size 37 ann size 37\n",
      "Batch: start 303, end 346\n",
      "Batch size 44 ann size 44\n",
      "Batch: start 347, end 390\n",
      "Batch size 44 ann size 44\n",
      "Batch: start 391, end 429\n",
      "Batch size 39 ann size 39\n",
      "Batch: start 430, end 471\n",
      "Batch size 42 ann size 42\n",
      "Batch: start 472, end 500\n",
      "Batch size 29 ann size 29\n",
      "Batch: start 501, end 510\n",
      "Batch size 10 ann size 10\n",
      "Saved in /home/mark/PycharmProjects/video_summarization/workspace/instructions_E11zDS9XGzg.json\n",
      "python ../video_summarization/pipelines/create_instruct_dataset.py video_path=videos/Base_Jumping.mp4\n",
      "[2023-04-30 22:04:14,454][HYDRA] /home/mark/miniconda3/envs/diplom/lib/python3.10/site-packages/hydra/_internal/hydra.py:119: UserWarning: Future Hydra versions will no longer change working directory at job runtime by default.\n",
      "See https://hydra.cc/docs/1.2/upgrades/1.1_to_1.2/changes_to_job_working_dir/ for more information.\n",
      "  ret = run_job(\n",
      "\n",
      "[2023-04-30 22:04:21,120][__main__][INFO] - Load labels\n",
      "FPS 29\n",
      "MoviePy - Writing audio in /home/mark/PycharmProjects/video_summarization/workspace/Base_Jumping.mp3\n"
     ]
    },
    {
     "name": "stderr",
     "output_type": "stream",
     "text": [
      "                                                                      \r"
     ]
    },
    {
     "name": "stdout",
     "output_type": "stream",
     "text": [
      "MoviePy - Done.\n",
      "[2023-04-30 22:04:23,787][__main__][INFO] - Converted video to image\n",
      "[2023-04-30 22:05:43,687][__main__][INFO] - Got image caption\n",
      "Batch: start 0, end 65\n",
      "Batch size 66 ann size 66\n",
      "Batch: start 66, end 124\n",
      "Batch size 59 ann size 59\n",
      "Batch: start 125, end 163\n",
      "Batch size 39 ann size 39\n",
      "Saved in /home/mark/PycharmProjects/video_summarization/workspace/instructions_Base_Jumping.json\n",
      "python ../video_summarization/pipelines/create_instruct_dataset.py video_path=videos/Hl-__g2gn_A.mp4\n",
      "[2023-04-30 22:05:56,075][HYDRA] /home/mark/miniconda3/envs/diplom/lib/python3.10/site-packages/hydra/_internal/hydra.py:119: UserWarning: Future Hydra versions will no longer change working directory at job runtime by default.\n",
      "See https://hydra.cc/docs/1.2/upgrades/1.1_to_1.2/changes_to_job_working_dir/ for more information.\n",
      "  ret = run_job(\n",
      "\n",
      "[2023-04-30 22:06:03,876][__main__][INFO] - Load labels\n",
      "FPS 23\n",
      "MoviePy - Writing audio in /home/mark/PycharmProjects/video_summarization/workspace/Hl-__g2gn_A.mp3\n"
     ]
    },
    {
     "name": "stderr",
     "output_type": "stream",
     "text": [
      "                                                                      \r"
     ]
    },
    {
     "name": "stdout",
     "output_type": "stream",
     "text": [
      "MoviePy - Done.\n",
      "[2023-04-30 22:06:06,432][__main__][INFO] - Converted video to image\n",
      "[2023-04-30 22:08:04,462][__main__][INFO] - Got image caption\n",
      "Batch: start 0, end 26\n",
      "Batch size 27 ann size 27\n",
      "Batch: start 27, end 57\n",
      "Batch size 31 ann size 31\n",
      "Batch: start 58, end 86\n",
      "Batch size 29 ann size 29\n",
      "Batch: start 87, end 112\n",
      "Batch size 26 ann size 26\n",
      "Batch: start 113, end 137\n",
      "Batch size 25 ann size 25\n",
      "Batch: start 138, end 166\n",
      "Batch size 29 ann size 29\n",
      "Batch: start 167, end 200\n",
      "Batch size 34 ann size 34\n",
      "Batch: start 201, end 238\n",
      "Batch size 38 ann size 38\n",
      "Batch: start 239, end 254\n",
      "Batch size 16 ann size 16\n",
      "Saved in /home/mark/PycharmProjects/video_summarization/workspace/instructions_Hl-__g2gn_A.json\n",
      "python ../video_summarization/pipelines/create_instruct_dataset.py video_path=videos/JgHubY5Vw3Y.mp4\n",
      "[2023-04-30 22:08:15,449][HYDRA] /home/mark/miniconda3/envs/diplom/lib/python3.10/site-packages/hydra/_internal/hydra.py:119: UserWarning: Future Hydra versions will no longer change working directory at job runtime by default.\n",
      "See https://hydra.cc/docs/1.2/upgrades/1.1_to_1.2/changes_to_job_working_dir/ for more information.\n",
      "  ret = run_job(\n",
      "\n",
      "[2023-04-30 22:08:22,332][__main__][INFO] - Load labels\n",
      "FPS 29\n",
      "MoviePy - Writing audio in /home/mark/PycharmProjects/video_summarization/workspace/JgHubY5Vw3Y.mp3\n"
     ]
    },
    {
     "name": "stderr",
     "output_type": "stream",
     "text": [
      "                                                                      \r"
     ]
    },
    {
     "name": "stdout",
     "output_type": "stream",
     "text": [
      "MoviePy - Done.\n",
      "[2023-04-30 22:08:24,418][__main__][INFO] - Converted video to image\n",
      "[2023-04-30 22:09:32,593][__main__][INFO] - Got image caption\n",
      "Batch: start 0, end 13\n",
      "Batch size 14 ann size 14\n",
      "Batch: start 14, end 31\n",
      "Batch size 18 ann size 18\n",
      "Batch: start 32, end 51\n",
      "Batch size 20 ann size 20\n",
      "Batch: start 52, end 75\n",
      "Batch size 24 ann size 24\n",
      "Batch: start 76, end 92\n",
      "Batch size 17 ann size 17\n",
      "Batch: start 93, end 111\n",
      "Batch size 19 ann size 19\n",
      "Batch: start 112, end 134\n",
      "Batch size 23 ann size 23\n",
      "Batch: start 135, end 148\n",
      "Batch size 14 ann size 14\n",
      "Saved in /home/mark/PycharmProjects/video_summarization/workspace/instructions_JgHubY5Vw3Y.json\n",
      "python ../video_summarization/pipelines/create_instruct_dataset.py video_path=videos/b626MiF1ew4.mp4\n",
      "[2023-04-30 22:09:40,965][HYDRA] /home/mark/miniconda3/envs/diplom/lib/python3.10/site-packages/hydra/_internal/hydra.py:119: UserWarning: Future Hydra versions will no longer change working directory at job runtime by default.\n",
      "See https://hydra.cc/docs/1.2/upgrades/1.1_to_1.2/changes_to_job_working_dir/ for more information.\n",
      "  ret = run_job(\n",
      "\n",
      "[2023-04-30 22:09:48,978][__main__][INFO] - Load labels\n",
      "FPS 24\n",
      "MoviePy - Writing audio in /home/mark/PycharmProjects/video_summarization/workspace/b626MiF1ew4.mp3\n"
     ]
    },
    {
     "name": "stderr",
     "output_type": "stream",
     "text": [
      "                                                                      \r"
     ]
    },
    {
     "name": "stdout",
     "output_type": "stream",
     "text": [
      "MoviePy - Done.\n",
      "[2023-04-30 22:09:51,624][__main__][INFO] - Converted video to image\n",
      "[2023-04-30 22:11:41,065][__main__][INFO] - Got image caption\n",
      "Batch: start 0, end 27\n",
      "Batch size 28 ann size 28\n",
      "Batch: start 28, end 52\n",
      "Batch size 25 ann size 25\n",
      "Batch: start 53, end 73\n",
      "Batch size 21 ann size 21\n",
      "Batch: start 74, end 94\n",
      "Batch size 21 ann size 21\n",
      "Batch: start 95, end 121\n",
      "Batch size 27 ann size 27\n",
      "Batch: start 122, end 145\n",
      "Batch size 24 ann size 24\n",
      "Batch: start 146, end 168\n",
      "Batch size 23 ann size 23\n",
      "Batch: start 169, end 198\n",
      "Batch size 30 ann size 30\n",
      "Batch: start 199, end 232\n",
      "Batch size 34 ann size 34\n",
      "Batch: start 233, end 235\n",
      "Batch size 3 ann size 3\n",
      "Saved in /home/mark/PycharmProjects/video_summarization/workspace/instructions_b626MiF1ew4.json\n",
      "python ../video_summarization/pipelines/create_instruct_dataset.py video_path=videos/Car_Railcrossing.mp4\n",
      "[2023-04-30 22:11:51,531][HYDRA] /home/mark/miniconda3/envs/diplom/lib/python3.10/site-packages/hydra/_internal/hydra.py:119: UserWarning: Future Hydra versions will no longer change working directory at job runtime by default.\n",
      "See https://hydra.cc/docs/1.2/upgrades/1.1_to_1.2/changes_to_job_working_dir/ for more information.\n",
      "  ret = run_job(\n",
      "\n",
      "[2023-04-30 22:12:00,561][__main__][INFO] - Load labels\n",
      "FPS 29\n",
      "MoviePy - Writing audio in /home/mark/PycharmProjects/video_summarization/workspace/Car_Railcrossing.mp3\n"
     ]
    },
    {
     "name": "stderr",
     "output_type": "stream",
     "text": [
      "                                                                      \r"
     ]
    },
    {
     "name": "stdout",
     "output_type": "stream",
     "text": [
      "MoviePy - Done.\n",
      "[2023-04-30 22:12:02,554][__main__][INFO] - Converted video to image\n",
      "[2023-04-30 22:13:34,260][__main__][INFO] - Got image caption\n",
      "Batch: start 0, end 67\n",
      "Batch size 68 ann size 68\n",
      "Batch: start 68, end 127\n",
      "Batch size 60 ann size 60\n",
      "Batch: start 128, end 174\n",
      "Batch size 47 ann size 47\n",
      "Saved in /home/mark/PycharmProjects/video_summarization/workspace/instructions_Car_Railcrossing.json\n",
      "python ../video_summarization/pipelines/create_instruct_dataset.py video_path=videos/0tmA_C6XwfM.mp4\n",
      "[2023-04-30 22:13:43,920][HYDRA] /home/mark/miniconda3/envs/diplom/lib/python3.10/site-packages/hydra/_internal/hydra.py:119: UserWarning: Future Hydra versions will no longer change working directory at job runtime by default.\n",
      "See https://hydra.cc/docs/1.2/upgrades/1.1_to_1.2/changes_to_job_working_dir/ for more information.\n",
      "  ret = run_job(\n",
      "\n",
      "[2023-04-30 22:14:01,190][__main__][INFO] - Load labels\n",
      "FPS 25\n",
      "MoviePy - Writing audio in /home/mark/PycharmProjects/video_summarization/workspace/0tmA_C6XwfM.mp3\n"
     ]
    },
    {
     "name": "stderr",
     "output_type": "stream",
     "text": [
      "                                                                      \r"
     ]
    },
    {
     "name": "stdout",
     "output_type": "stream",
     "text": [
      "MoviePy - Done.\n",
      "[2023-04-30 22:14:03,882][__main__][INFO] - Converted video to image\n",
      "[2023-04-30 22:15:08,423][__main__][INFO] - Got image caption\n",
      "Batch: start 0, end 22\n",
      "Batch size 23 ann size 23\n",
      "Batch: start 23, end 43\n",
      "Batch size 21 ann size 21\n",
      "Batch: start 44, end 68\n",
      "Batch size 25 ann size 25\n",
      "Batch: start 69, end 89\n",
      "Batch size 21 ann size 21\n",
      "Batch: start 90, end 117\n",
      "Batch size 28 ann size 28\n",
      "Batch: start 118, end 141\n",
      "Batch size 24 ann size 24\n",
      "Saved in /home/mark/PycharmProjects/video_summarization/workspace/instructions_0tmA_C6XwfM.json\n",
      "python ../video_summarization/pipelines/create_instruct_dataset.py video_path=videos/XkqCExn6_Us.mp4\n",
      "[2023-04-30 22:15:16,848][HYDRA] /home/mark/miniconda3/envs/diplom/lib/python3.10/site-packages/hydra/_internal/hydra.py:119: UserWarning: Future Hydra versions will no longer change working directory at job runtime by default.\n",
      "See https://hydra.cc/docs/1.2/upgrades/1.1_to_1.2/changes_to_job_working_dir/ for more information.\n",
      "  ret = run_job(\n",
      "\n",
      "[2023-04-30 22:15:25,982][__main__][INFO] - Load labels\n",
      "FPS 29\n",
      "MoviePy - Writing audio in /home/mark/PycharmProjects/video_summarization/workspace/XkqCExn6_Us.mp3\n"
     ]
    },
    {
     "name": "stderr",
     "output_type": "stream",
     "text": [
      "                                                                      \r"
     ]
    },
    {
     "name": "stdout",
     "output_type": "stream",
     "text": [
      "MoviePy - Done.\n",
      "[2023-04-30 22:15:29,101][__main__][INFO] - Converted video to image\n",
      "[2023-04-30 22:16:59,000][__main__][INFO] - Got image caption\n",
      "Batch: start 0, end 50\n",
      "Batch size 51 ann size 51\n",
      "Batch: start 51, end 103\n",
      "Batch size 53 ann size 53\n",
      "Batch: start 104, end 156\n",
      "Batch size 53 ann size 53\n",
      "Batch: start 157, end 194\n",
      "Batch size 38 ann size 38\n",
      "Saved in /home/mark/PycharmProjects/video_summarization/workspace/instructions_XkqCExn6_Us.json\n",
      "python ../video_summarization/pipelines/create_instruct_dataset.py video_path=videos/sTEELN-vY30.mp4\n",
      "[2023-04-30 22:17:06,808][HYDRA] /home/mark/miniconda3/envs/diplom/lib/python3.10/site-packages/hydra/_internal/hydra.py:119: UserWarning: Future Hydra versions will no longer change working directory at job runtime by default.\n",
      "See https://hydra.cc/docs/1.2/upgrades/1.1_to_1.2/changes_to_job_working_dir/ for more information.\n",
      "  ret = run_job(\n",
      "\n",
      "[2023-04-30 22:17:21,246][__main__][INFO] - Load labels\n",
      "FPS 30\n",
      "MoviePy - Writing audio in /home/mark/PycharmProjects/video_summarization/workspace/sTEELN-vY30.mp3\n"
     ]
    },
    {
     "name": "stderr",
     "output_type": "stream",
     "text": [
      "                                                                      \r"
     ]
    },
    {
     "name": "stdout",
     "output_type": "stream",
     "text": [
      "MoviePy - Done.\n",
      "[2023-04-30 22:17:23,208][__main__][INFO] - Converted video to image\n",
      "[2023-04-30 22:18:31,184][__main__][INFO] - Got image caption\n",
      "Batch: start 0, end 29\n",
      "Batch size 30 ann size 30\n",
      "Batch: start 30, end 55\n",
      "Batch size 26 ann size 26\n",
      "Batch: start 56, end 84\n",
      "Batch size 29 ann size 29\n",
      "Batch: start 85, end 115\n",
      "Batch size 31 ann size 31\n",
      "Batch: start 116, end 144\n",
      "Batch size 29 ann size 29\n",
      "Batch: start 145, end 148\n",
      "Batch size 4 ann size 4\n",
      "Saved in /home/mark/PycharmProjects/video_summarization/workspace/instructions_sTEELN-vY30.json\n",
      "python ../video_summarization/pipelines/create_instruct_dataset.py video_path=videos/WG0MBPpPC6I.mp4\n",
      "[2023-04-30 22:18:40,462][HYDRA] /home/mark/miniconda3/envs/diplom/lib/python3.10/site-packages/hydra/_internal/hydra.py:119: UserWarning: Future Hydra versions will no longer change working directory at job runtime by default.\n",
      "See https://hydra.cc/docs/1.2/upgrades/1.1_to_1.2/changes_to_job_working_dir/ for more information.\n",
      "  ret = run_job(\n",
      "\n",
      "[2023-04-30 22:18:47,107][__main__][INFO] - Load labels\n",
      "FPS 23\n",
      "MoviePy - Writing audio in /home/mark/PycharmProjects/video_summarization/workspace/WG0MBPpPC6I.mp3\n"
     ]
    },
    {
     "name": "stderr",
     "output_type": "stream",
     "text": [
      "                                                                      \r"
     ]
    },
    {
     "name": "stdout",
     "output_type": "stream",
     "text": [
      "MoviePy - Done.\n",
      "[2023-04-30 22:18:53,021][__main__][INFO] - Converted video to image\n",
      "[2023-04-30 22:22:07,583][__main__][INFO] - Got image caption\n",
      "Batch: start 0, end 16\n",
      "Batch size 17 ann size 17\n",
      "Batch: start 17, end 38\n",
      "Batch size 22 ann size 22\n",
      "Batch: start 39, end 61\n",
      "Batch size 23 ann size 23\n",
      "Batch: start 62, end 91\n",
      "Batch size 30 ann size 30\n",
      "Batch: start 92, end 120\n",
      "Batch size 29 ann size 29\n",
      "Batch: start 121, end 152\n",
      "Batch size 32 ann size 32\n",
      "Batch: start 153, end 183\n",
      "Batch size 31 ann size 31\n",
      "Batch: start 184, end 206\n",
      "Batch size 23 ann size 23\n",
      "Batch: start 207, end 233\n",
      "Batch size 27 ann size 27\n",
      "Batch: start 234, end 253\n",
      "Batch size 20 ann size 20\n",
      "Batch: start 254, end 286\n",
      "Batch size 33 ann size 33\n",
      "Batch: start 287, end 321\n",
      "Batch size 35 ann size 35\n",
      "Batch: start 322, end 351\n",
      "Batch size 30 ann size 30\n",
      "Batch: start 352, end 383\n",
      "Batch size 32 ann size 32\n",
      "Batch: start 384, end 414\n",
      "Batch size 31 ann size 31\n",
      "Saved in /home/mark/PycharmProjects/video_summarization/workspace/instructions_WG0MBPpPC6I.json\n",
      "python ../video_summarization/pipelines/create_instruct_dataset.py video_path=videos/Fire_Domino.mp4\n",
      "[2023-04-30 22:22:21,329][HYDRA] /home/mark/miniconda3/envs/diplom/lib/python3.10/site-packages/hydra/_internal/hydra.py:119: UserWarning: Future Hydra versions will no longer change working directory at job runtime by default.\n",
      "See https://hydra.cc/docs/1.2/upgrades/1.1_to_1.2/changes_to_job_working_dir/ for more information.\n",
      "  ret = run_job(\n",
      "\n",
      "[2023-04-30 22:22:29,585][__main__][INFO] - Load labels\n",
      "FPS 30\n",
      "MoviePy - Writing audio in /home/mark/PycharmProjects/video_summarization/workspace/Fire_Domino.mp3\n"
     ]
    },
    {
     "name": "stderr",
     "output_type": "stream",
     "text": [
      "                                                                      \r"
     ]
    },
    {
     "name": "stdout",
     "output_type": "stream",
     "text": [
      "MoviePy - Done.\n",
      "[2023-04-30 22:22:30,434][__main__][INFO] - Converted video to image\n",
      "[2023-04-30 22:22:54,584][__main__][INFO] - Got image caption\n",
      "Batch: start 0, end 53\n",
      "Batch size 54 ann size 54\n",
      "Saved in /home/mark/PycharmProjects/video_summarization/workspace/instructions_Fire_Domino.json\n",
      "python ../video_summarization/pipelines/create_instruct_dataset.py video_path=videos/91IHQYk1IQM.mp4\n",
      "[2023-04-30 22:23:01,159][HYDRA] /home/mark/miniconda3/envs/diplom/lib/python3.10/site-packages/hydra/_internal/hydra.py:119: UserWarning: Future Hydra versions will no longer change working directory at job runtime by default.\n",
      "See https://hydra.cc/docs/1.2/upgrades/1.1_to_1.2/changes_to_job_working_dir/ for more information.\n",
      "  ret = run_job(\n",
      "\n",
      "[2023-04-30 22:23:07,917][__main__][INFO] - Load labels\n",
      "FPS 29\n",
      "MoviePy - Writing audio in /home/mark/PycharmProjects/video_summarization/workspace/91IHQYk1IQM.mp3\n"
     ]
    },
    {
     "name": "stderr",
     "output_type": "stream",
     "text": [
      "                                                                      \r"
     ]
    },
    {
     "name": "stdout",
     "output_type": "stream",
     "text": [
      "MoviePy - Done.\n",
      "[2023-04-30 22:23:09,254][__main__][INFO] - Converted video to image\n",
      "[2023-04-30 22:24:02,266][__main__][INFO] - Got image caption\n",
      "Batch: start 0, end 43\n",
      "Batch size 44 ann size 44\n",
      "Batch: start 44, end 87\n",
      "Batch size 44 ann size 44\n",
      "Batch: start 88, end 114\n",
      "Batch size 27 ann size 27\n",
      "Saved in /home/mark/PycharmProjects/video_summarization/workspace/instructions_91IHQYk1IQM.json\n",
      "python ../video_summarization/pipelines/create_instruct_dataset.py video_path=videos/XzYM3PfTM4w.mp4\n",
      "[2023-04-30 22:24:14,667][HYDRA] /home/mark/miniconda3/envs/diplom/lib/python3.10/site-packages/hydra/_internal/hydra.py:119: UserWarning: Future Hydra versions will no longer change working directory at job runtime by default.\n",
      "See https://hydra.cc/docs/1.2/upgrades/1.1_to_1.2/changes_to_job_working_dir/ for more information.\n",
      "  ret = run_job(\n",
      "\n",
      "[2023-04-30 22:24:26,498][__main__][INFO] - Load labels\n",
      "FPS 29\n",
      "MoviePy - Writing audio in /home/mark/PycharmProjects/video_summarization/workspace/XzYM3PfTM4w.mp3\n"
     ]
    },
    {
     "name": "stderr",
     "output_type": "stream",
     "text": [
      "                                                                      \r"
     ]
    },
    {
     "name": "stdout",
     "output_type": "stream",
     "text": [
      "MoviePy - Done.\n",
      "[2023-04-30 22:24:28,393][__main__][INFO] - Converted video to image\n",
      "[2023-04-30 22:25:21,778][__main__][INFO] - Got image caption\n",
      "Batch: start 0, end 20\n",
      "Batch size 21 ann size 21\n",
      "Batch: start 21, end 44\n",
      "Batch size 24 ann size 24\n",
      "Batch: start 45, end 69\n",
      "Batch size 25 ann size 25\n",
      "Batch: start 70, end 92\n",
      "Batch size 23 ann size 23\n",
      "Batch: start 93, end 114\n",
      "Batch size 22 ann size 22\n",
      "Saved in /home/mark/PycharmProjects/video_summarization/workspace/instructions_XzYM3PfTM4w.json\n",
      "python ../video_summarization/pipelines/create_instruct_dataset.py video_path=videos/vdmoEJ5YbrQ.mp4\n",
      "[2023-04-30 22:25:29,713][HYDRA] /home/mark/miniconda3/envs/diplom/lib/python3.10/site-packages/hydra/_internal/hydra.py:119: UserWarning: Future Hydra versions will no longer change working directory at job runtime by default.\n",
      "See https://hydra.cc/docs/1.2/upgrades/1.1_to_1.2/changes_to_job_working_dir/ for more information.\n",
      "  ret = run_job(\n",
      "\n",
      "[2023-04-30 22:25:53,133][__main__][INFO] - Load labels\n",
      "FPS 29\n",
      "MoviePy - Writing audio in /home/mark/PycharmProjects/video_summarization/workspace/vdmoEJ5YbrQ.mp3\n"
     ]
    },
    {
     "name": "stderr",
     "output_type": "stream",
     "text": [
      "                                                                      \r"
     ]
    },
    {
     "name": "stdout",
     "output_type": "stream",
     "text": [
      "MoviePy - Done.\n",
      "[2023-04-30 22:25:56,016][__main__][INFO] - Converted video to image\n",
      "[2023-04-30 22:28:32,088][__main__][INFO] - Got image caption\n",
      "Batch: start 0, end 25\n",
      "Batch size 26 ann size 26\n",
      "Batch: start 26, end 58\n",
      "Batch size 33 ann size 33\n",
      "Batch: start 59, end 90\n",
      "Batch size 32 ann size 32\n",
      "Batch: start 91, end 122\n",
      "Batch size 32 ann size 32\n",
      "Batch: start 123, end 150\n",
      "Batch size 28 ann size 28\n",
      "Batch: start 151, end 188\n",
      "Batch size 38 ann size 38\n",
      "Batch: start 189, end 217\n",
      "Batch size 29 ann size 29\n",
      "Batch: start 218, end 257\n",
      "Batch size 40 ann size 40\n",
      "Batch: start 258, end 303\n",
      "Batch size 46 ann size 46\n",
      "Batch: start 304, end 339\n",
      "Batch size 36 ann size 36\n",
      "Batch: start 340, end 340\n",
      "Batch size 1 ann size 1\n",
      "Saved in /home/mark/PycharmProjects/video_summarization/workspace/instructions_vdmoEJ5YbrQ.json\n",
      "python ../video_summarization/pipelines/create_instruct_dataset.py video_path=videos/-esJrBWj2d8.mp4\n",
      "[2023-04-30 22:28:43,382][HYDRA] /home/mark/miniconda3/envs/diplom/lib/python3.10/site-packages/hydra/_internal/hydra.py:119: UserWarning: Future Hydra versions will no longer change working directory at job runtime by default.\n",
      "See https://hydra.cc/docs/1.2/upgrades/1.1_to_1.2/changes_to_job_working_dir/ for more information.\n",
      "  ret = run_job(\n",
      "\n",
      "[2023-04-30 22:28:54,799][__main__][INFO] - Load labels\n",
      "FPS 30\n",
      "MoviePy - Writing audio in /home/mark/PycharmProjects/video_summarization/workspace/-esJrBWj2d8.mp3\n"
     ]
    },
    {
     "name": "stderr",
     "output_type": "stream",
     "text": [
      "                                                                      \r"
     ]
    },
    {
     "name": "stdout",
     "output_type": "stream",
     "text": [
      "MoviePy - Done.\n",
      "[2023-04-30 22:28:58,341][__main__][INFO] - Converted video to image\n",
      "[2023-04-30 22:30:45,099][__main__][INFO] - Got image caption\n",
      "Batch: start 0, end 20\n",
      "Batch size 21 ann size 21\n",
      "Batch: start 21, end 52\n",
      "Batch size 32 ann size 32\n",
      "Batch: start 53, end 74\n",
      "Batch size 22 ann size 22\n",
      "Batch: start 75, end 111\n",
      "Batch size 37 ann size 37\n",
      "Batch: start 112, end 142\n",
      "Batch size 31 ann size 31\n",
      "Batch: start 143, end 180\n",
      "Batch size 38 ann size 38\n",
      "Batch: start 181, end 215\n",
      "Batch size 35 ann size 35\n",
      "Batch: start 216, end 230\n",
      "Batch size 15 ann size 15\n",
      "Saved in /home/mark/PycharmProjects/video_summarization/workspace/instructions_-esJrBWj2d8.json\n",
      "python ../video_summarization/pipelines/create_instruct_dataset.py video_path=videos/Eiffel_Tower.mp4\n",
      "[2023-04-30 22:30:58,579][HYDRA] /home/mark/miniconda3/envs/diplom/lib/python3.10/site-packages/hydra/_internal/hydra.py:119: UserWarning: Future Hydra versions will no longer change working directory at job runtime by default.\n",
      "See https://hydra.cc/docs/1.2/upgrades/1.1_to_1.2/changes_to_job_working_dir/ for more information.\n",
      "  ret = run_job(\n",
      "\n",
      "[2023-04-30 22:31:06,153][__main__][INFO] - Load labels\n",
      "FPS 25\n",
      "MoviePy - Writing audio in /home/mark/PycharmProjects/video_summarization/workspace/Eiffel_Tower.mp3\n"
     ]
    },
    {
     "name": "stderr",
     "output_type": "stream",
     "text": [
      "                                                                      \r"
     ]
    },
    {
     "name": "stdout",
     "output_type": "stream",
     "text": [
      "MoviePy - Done.\n",
      "[2023-04-30 22:31:09,708][__main__][INFO] - Converted video to image\n",
      "[2023-04-30 22:33:04,626][__main__][INFO] - Got image caption\n",
      "Batch: start 0, end 58\n",
      "Batch size 59 ann size 59\n",
      "Batch: start 59, end 88\n",
      "Batch size 30 ann size 30\n",
      "Batch: start 89, end 123\n",
      "Batch size 35 ann size 35\n",
      "Batch: start 124, end 171\n",
      "Batch size 48 ann size 48\n",
      "Batch: start 172, end 198\n",
      "Batch size 27 ann size 27\n",
      "Saved in /home/mark/PycharmProjects/video_summarization/workspace/instructions_Eiffel_Tower.json\n",
      "python ../video_summarization/pipelines/create_instruct_dataset.py video_path=videos/HT5vyqe0Xaw.mp4\n",
      "[2023-04-30 22:33:26,307][HYDRA] /home/mark/miniconda3/envs/diplom/lib/python3.10/site-packages/hydra/_internal/hydra.py:119: UserWarning: Future Hydra versions will no longer change working directory at job runtime by default.\n",
      "See https://hydra.cc/docs/1.2/upgrades/1.1_to_1.2/changes_to_job_working_dir/ for more information.\n",
      "  ret = run_job(\n",
      "\n",
      "[2023-04-30 22:33:33,941][__main__][INFO] - Load labels\n",
      "FPS 29\n",
      "MoviePy - Writing audio in /home/mark/PycharmProjects/video_summarization/workspace/HT5vyqe0Xaw.mp3\n"
     ]
    },
    {
     "name": "stderr",
     "output_type": "stream",
     "text": [
      "                                                                      \r"
     ]
    },
    {
     "name": "stdout",
     "output_type": "stream",
     "text": [
      "MoviePy - Done.\n",
      "[2023-04-30 22:33:38,214][__main__][INFO] - Converted video to image\n",
      "[2023-04-30 22:36:17,266][__main__][INFO] - Got image caption\n",
      "Batch: start 0, end 28\n",
      "Batch size 29 ann size 29\n",
      "Batch: start 29, end 55\n",
      "Batch size 27 ann size 27\n",
      "Batch: start 56, end 87\n",
      "Batch size 32 ann size 32\n",
      "Batch: start 88, end 114\n",
      "Batch size 27 ann size 27\n",
      "Batch: start 115, end 141\n",
      "Batch size 27 ann size 27\n",
      "Batch: start 142, end 171\n",
      "Batch size 30 ann size 30\n",
      "Batch: start 172, end 205\n",
      "Batch size 34 ann size 34\n",
      "Batch: start 206, end 238\n",
      "Batch size 33 ann size 33\n",
      "Batch: start 239, end 281\n",
      "Batch size 43 ann size 43\n",
      "Batch: start 282, end 316\n",
      "Batch size 35 ann size 35\n",
      "Batch: start 317, end 333\n",
      "Batch size 17 ann size 17\n",
      "Saved in /home/mark/PycharmProjects/video_summarization/workspace/instructions_HT5vyqe0Xaw.json\n",
      "python ../video_summarization/pipelines/create_instruct_dataset.py video_path=videos/NyBmCxDoHJU.mp4\n",
      "[2023-04-30 22:36:29,376][HYDRA] /home/mark/miniconda3/envs/diplom/lib/python3.10/site-packages/hydra/_internal/hydra.py:119: UserWarning: Future Hydra versions will no longer change working directory at job runtime by default.\n",
      "See https://hydra.cc/docs/1.2/upgrades/1.1_to_1.2/changes_to_job_working_dir/ for more information.\n",
      "  ret = run_job(\n",
      "\n",
      "[2023-04-30 22:36:37,094][__main__][INFO] - Load labels\n",
      "FPS 25\n",
      "MoviePy - Writing audio in /home/mark/PycharmProjects/video_summarization/workspace/NyBmCxDoHJU.mp3\n"
     ]
    },
    {
     "name": "stderr",
     "output_type": "stream",
     "text": [
      "                                                                      \r"
     ]
    },
    {
     "name": "stdout",
     "output_type": "stream",
     "text": [
      "MoviePy - Done.\n",
      "[2023-04-30 22:36:40,272][__main__][INFO] - Converted video to image\n",
      "[2023-04-30 22:38:08,626][__main__][INFO] - Got image caption\n",
      "Batch: start 0, end 39\n",
      "Batch size 40 ann size 40\n",
      "Batch: start 40, end 73\n",
      "Batch size 34 ann size 34\n",
      "Batch: start 74, end 110\n",
      "Batch size 37 ann size 37\n",
      "Batch: start 111, end 147\n",
      "Batch size 37 ann size 37\n",
      "Batch: start 148, end 188\n",
      "Batch size 41 ann size 41\n",
      "Batch: start 189, end 189\n",
      "Batch size 1 ann size 1\n",
      "Saved in /home/mark/PycharmProjects/video_summarization/workspace/instructions_NyBmCxDoHJU.json\n",
      "python ../video_summarization/pipelines/create_instruct_dataset.py video_path=videos/Cooking.mp4\n",
      "[2023-04-30 22:38:22,703][HYDRA] /home/mark/miniconda3/envs/diplom/lib/python3.10/site-packages/hydra/_internal/hydra.py:119: UserWarning: Future Hydra versions will no longer change working directory at job runtime by default.\n",
      "See https://hydra.cc/docs/1.2/upgrades/1.1_to_1.2/changes_to_job_working_dir/ for more information.\n",
      "  ret = run_job(\n",
      "\n",
      "[2023-04-30 22:38:31,849][__main__][INFO] - Load labels\n",
      "FPS 15\n",
      "MoviePy - Writing audio in /home/mark/PycharmProjects/video_summarization/workspace/Cooking.mp3\n"
     ]
    },
    {
     "name": "stderr",
     "output_type": "stream",
     "text": [
      "                                                                      \r"
     ]
    },
    {
     "name": "stdout",
     "output_type": "stream",
     "text": [
      "MoviePy - Done.\n",
      "[2023-04-30 22:38:32,880][__main__][INFO] - Converted video to image\n"
     ]
    },
    {
     "name": "stderr",
     "output_type": "stream",
     "text": [
      "[h264 @ 0x6522cd00] reference picture missing during reorder\n",
      "[h264 @ 0x6522cd00] Missing reference picture, default is 2\n",
      "[h264 @ 0x6becdc00] mmco: unref short failure\n"
     ]
    },
    {
     "name": "stdout",
     "output_type": "stream",
     "text": [
      "[2023-04-30 22:39:12,249][__main__][INFO] - Got image caption\n",
      "Batch: start 0, end 51\n",
      "Batch size 52 ann size 52\n",
      "Batch: start 52, end 84\n",
      "Batch size 33 ann size 33\n",
      "Saved in /home/mark/PycharmProjects/video_summarization/workspace/instructions_Cooking.json\n",
      "python ../video_summarization/pipelines/create_instruct_dataset.py video_path=videos/RBCABdttQmI.mp4\n",
      "[2023-04-30 22:39:24,149][HYDRA] /home/mark/miniconda3/envs/diplom/lib/python3.10/site-packages/hydra/_internal/hydra.py:119: UserWarning: Future Hydra versions will no longer change working directory at job runtime by default.\n",
      "See https://hydra.cc/docs/1.2/upgrades/1.1_to_1.2/changes_to_job_working_dir/ for more information.\n",
      "  ret = run_job(\n",
      "\n",
      "[2023-04-30 22:39:32,977][__main__][INFO] - Load labels\n",
      "FPS 29\n",
      "MoviePy - Writing audio in /home/mark/PycharmProjects/video_summarization/workspace/RBCABdttQmI.mp3\n"
     ]
    },
    {
     "name": "stderr",
     "output_type": "stream",
     "text": [
      "                                                                      \r"
     ]
    },
    {
     "name": "stdout",
     "output_type": "stream",
     "text": [
      "MoviePy - Done.\n",
      "[2023-04-30 22:39:37,704][__main__][INFO] - Converted video to image\n",
      "[2023-04-30 22:42:33,386][__main__][INFO] - Got image caption\n",
      "Batch: start 0, end 26\n",
      "Batch size 27 ann size 27\n",
      "Batch: start 27, end 51\n",
      "Batch size 25 ann size 25\n",
      "Batch: start 52, end 75\n",
      "Batch size 24 ann size 24\n",
      "Batch: start 76, end 100\n",
      "Batch size 25 ann size 25\n",
      "Batch: start 101, end 121\n",
      "Batch size 21 ann size 21\n",
      "Batch: start 122, end 147\n",
      "Batch size 26 ann size 26\n",
      "Batch: start 148, end 174\n",
      "Batch size 27 ann size 27\n",
      "Batch: start 175, end 201\n",
      "Batch size 27 ann size 27\n",
      "Batch: start 202, end 221\n",
      "Batch size 20 ann size 20\n",
      "Batch: start 222, end 235\n",
      "Batch size 14 ann size 14\n",
      "Batch: start 236, end 255\n",
      "Batch size 20 ann size 20\n",
      "Batch: start 256, end 276\n",
      "Batch size 21 ann size 21\n",
      "Batch: start 277, end 296\n",
      "Batch size 20 ann size 20\n",
      "Batch: start 297, end 316\n",
      "Batch size 20 ann size 20\n",
      "Batch: start 317, end 330\n",
      "Batch size 14 ann size 14\n",
      "Batch: start 331, end 376\n",
      "Batch size 46 ann size 46\n",
      "Saved in /home/mark/PycharmProjects/video_summarization/workspace/instructions_RBCABdttQmI.json\n",
      "python ../video_summarization/pipelines/create_instruct_dataset.py video_path=videos/Bhxk-O1Y7Ho.mp4\n",
      "[2023-04-30 22:42:48,829][HYDRA] /home/mark/miniconda3/envs/diplom/lib/python3.10/site-packages/hydra/_internal/hydra.py:119: UserWarning: Future Hydra versions will no longer change working directory at job runtime by default.\n",
      "See https://hydra.cc/docs/1.2/upgrades/1.1_to_1.2/changes_to_job_working_dir/ for more information.\n",
      "  ret = run_job(\n",
      "\n",
      "[2023-04-30 22:43:02,331][__main__][INFO] - Load labels\n",
      "FPS 29\n",
      "MoviePy - Writing audio in /home/mark/PycharmProjects/video_summarization/workspace/Bhxk-O1Y7Ho.mp3\n"
     ]
    },
    {
     "name": "stderr",
     "output_type": "stream",
     "text": [
      "                                                                      \r"
     ]
    },
    {
     "name": "stdout",
     "output_type": "stream",
     "text": [
      "MoviePy - Done.\n",
      "[2023-04-30 22:43:10,191][__main__][INFO] - Converted video to image\n",
      "[2023-04-30 22:46:47,148][__main__][INFO] - Got image caption\n",
      "Batch: start 0, end 26\n",
      "Batch size 27 ann size 27\n",
      "Batch: start 27, end 51\n",
      "Batch size 25 ann size 25\n",
      "Batch: start 52, end 72\n",
      "Batch size 21 ann size 21\n",
      "Batch: start 73, end 97\n",
      "Batch size 25 ann size 25\n",
      "Batch: start 98, end 128\n",
      "Batch size 31 ann size 31\n",
      "Batch: start 129, end 146\n",
      "Batch size 18 ann size 18\n",
      "Batch: start 147, end 170\n",
      "Batch size 24 ann size 24\n",
      "Batch: start 171, end 198\n",
      "Batch size 28 ann size 28\n",
      "Batch: start 199, end 235\n",
      "Batch size 37 ann size 37\n",
      "Batch: start 236, end 266\n",
      "Batch size 31 ann size 31\n",
      "Batch: start 267, end 297\n",
      "Batch size 31 ann size 31\n",
      "Batch: start 298, end 321\n",
      "Batch size 24 ann size 24\n",
      "Batch: start 322, end 345\n",
      "Batch size 24 ann size 24\n",
      "Batch: start 346, end 370\n",
      "Batch size 25 ann size 25\n",
      "Batch: start 371, end 393\n",
      "Batch size 23 ann size 23\n",
      "Batch: start 394, end 418\n",
      "Batch size 25 ann size 25\n",
      "Batch: start 419, end 442\n",
      "Batch size 24 ann size 24\n",
      "Batch: start 443, end 465\n",
      "Batch size 23 ann size 23\n",
      "Saved in /home/mark/PycharmProjects/video_summarization/workspace/instructions_Bhxk-O1Y7Ho.json\n",
      "python ../video_summarization/pipelines/create_instruct_dataset.py video_path=videos/z_6gVvQb2d0.mp4\n",
      "[2023-04-30 22:47:01,821][HYDRA] /home/mark/miniconda3/envs/diplom/lib/python3.10/site-packages/hydra/_internal/hydra.py:119: UserWarning: Future Hydra versions will no longer change working directory at job runtime by default.\n",
      "See https://hydra.cc/docs/1.2/upgrades/1.1_to_1.2/changes_to_job_working_dir/ for more information.\n",
      "  ret = run_job(\n",
      "\n",
      "[2023-04-30 22:47:11,846][__main__][INFO] - Load labels\n",
      "FPS 29\n",
      "MoviePy - Writing audio in /home/mark/PycharmProjects/video_summarization/workspace/z_6gVvQb2d0.mp3\n"
     ]
    },
    {
     "name": "stderr",
     "output_type": "stream",
     "text": [
      "                                                                      \r"
     ]
    },
    {
     "name": "stdout",
     "output_type": "stream",
     "text": [
      "MoviePy - Done.\n",
      "[2023-04-30 22:47:15,028][__main__][INFO] - Converted video to image\n",
      "[2023-04-30 22:49:27,837][__main__][INFO] - Got image caption\n",
      "Batch: start 0, end 50\n",
      "Batch size 51 ann size 51\n",
      "Batch: start 51, end 92\n",
      "Batch size 42 ann size 42\n",
      "Batch: start 93, end 140\n",
      "Batch size 48 ann size 48\n",
      "Batch: start 141, end 193\n",
      "Batch size 53 ann size 53\n",
      "Batch: start 194, end 244\n",
      "Batch size 51 ann size 51\n",
      "Batch: start 245, end 285\n",
      "Batch size 41 ann size 41\n",
      "Saved in /home/mark/PycharmProjects/video_summarization/workspace/instructions_z_6gVvQb2d0.json\n",
      "python ../video_summarization/pipelines/create_instruct_dataset.py video_path=videos/Saving_Dolphines.mp4\n",
      "[2023-04-30 22:49:53,159][HYDRA] /home/mark/miniconda3/envs/diplom/lib/python3.10/site-packages/hydra/_internal/hydra.py:119: UserWarning: Future Hydra versions will no longer change working directory at job runtime by default.\n",
      "See https://hydra.cc/docs/1.2/upgrades/1.1_to_1.2/changes_to_job_working_dir/ for more information.\n",
      "  ret = run_job(\n",
      "\n",
      "[2023-04-30 22:50:00,742][__main__][INFO] - Load labels\n",
      "FPS 29\n",
      "MoviePy - Writing audio in /home/mark/PycharmProjects/video_summarization/workspace/Saving_Dolphines.mp3\n"
     ]
    },
    {
     "name": "stderr",
     "output_type": "stream",
     "text": [
      "                                                                      \r"
     ]
    },
    {
     "name": "stdout",
     "output_type": "stream",
     "text": [
      "MoviePy - Done.\n",
      "[2023-04-30 22:50:04,014][__main__][INFO] - Converted video to image\n",
      "[2023-04-30 22:52:02,145][__main__][INFO] - Got image caption\n",
      "Batch: start 0, end 62\n",
      "Batch size 63 ann size 63\n",
      "Batch: start 63, end 129\n",
      "Batch size 67 ann size 67\n",
      "Batch: start 130, end 201\n",
      "Batch size 72 ann size 72\n",
      "Batch: start 202, end 230\n",
      "Batch size 29 ann size 29\n",
      "Saved in /home/mark/PycharmProjects/video_summarization/workspace/instructions_Saving_Dolphines.json\n",
      "python ../video_summarization/pipelines/create_instruct_dataset.py video_path=videos/Scuba.mp4\n",
      "[2023-04-30 22:52:25,427][HYDRA] /home/mark/miniconda3/envs/diplom/lib/python3.10/site-packages/hydra/_internal/hydra.py:119: UserWarning: Future Hydra versions will no longer change working directory at job runtime by default.\n",
      "See https://hydra.cc/docs/1.2/upgrades/1.1_to_1.2/changes_to_job_working_dir/ for more information.\n",
      "  ret = run_job(\n",
      "\n",
      "[2023-04-30 22:52:34,473][__main__][INFO] - Load labels\n",
      "FPS 30\n"
     ]
    },
    {
     "name": "stderr",
     "output_type": "stream",
     "text": [
      "Error executing job with overrides: ['video_path=videos/Scuba.mp4']\n",
      "Traceback (most recent call last):\n",
      "  File \"/home/mark/PycharmProjects/video_summarization/notebooks/../video_summarization/pipelines/create_instruct_dataset.py\", line 43, in main\n",
      "    audio_path = save_audio(video_path, target_path=cfg[\"work_path\"])\n",
      "  File \"/home/mark/PycharmProjects/video_summarization/video_summarization/src/io.py\", line 14, in save_audio\n",
      "    VideoFileClip(file_path).audio.write_audiofile(result_path)\n",
      "AttributeError: 'NoneType' object has no attribute 'write_audiofile'\n",
      "\n",
      "Set the environment variable HYDRA_FULL_ERROR=1 for a complete stack trace.\n"
     ]
    },
    {
     "name": "stdout",
     "output_type": "stream",
     "text": [
      "python ../video_summarization/pipelines/create_instruct_dataset.py video_path=videos/Cockpit_Landing.mp4\n",
      "[2023-04-30 22:52:37,935][HYDRA] /home/mark/miniconda3/envs/diplom/lib/python3.10/site-packages/hydra/_internal/hydra.py:119: UserWarning: Future Hydra versions will no longer change working directory at job runtime by default.\n",
      "See https://hydra.cc/docs/1.2/upgrades/1.1_to_1.2/changes_to_job_working_dir/ for more information.\n",
      "  ret = run_job(\n",
      "\n",
      "[2023-04-30 22:52:44,459][__main__][INFO] - Load labels\n",
      "FPS 29\n",
      "MoviePy - Writing audio in /home/mark/PycharmProjects/video_summarization/workspace/Cockpit_Landing.mp3\n"
     ]
    },
    {
     "name": "stderr",
     "output_type": "stream",
     "text": [
      "                                                                      \r"
     ]
    },
    {
     "name": "stdout",
     "output_type": "stream",
     "text": [
      "MoviePy - Done.\n",
      "[2023-04-30 22:52:47,850][__main__][INFO] - Converted video to image\n",
      "[2023-04-30 22:55:35,325][__main__][INFO] - Got image caption\n",
      "Batch: start 0, end 47\n",
      "Batch size 48 ann size 48\n",
      "Batch: start 48, end 96\n",
      "Batch size 49 ann size 49\n",
      "Batch: start 97, end 153\n",
      "Batch size 57 ann size 57\n",
      "Batch: start 154, end 203\n",
      "Batch size 50 ann size 50\n",
      "Batch: start 204, end 257\n",
      "Batch size 54 ann size 54\n",
      "Batch: start 258, end 311\n",
      "Batch size 54 ann size 54\n",
      "Saved in /home/mark/PycharmProjects/video_summarization/workspace/instructions_Cockpit_Landing.json\n",
      "python ../video_summarization/pipelines/create_instruct_dataset.py video_path=videos/J0nA4VgnoCo.mp4\n",
      "[2023-04-30 22:55:48,233][HYDRA] /home/mark/miniconda3/envs/diplom/lib/python3.10/site-packages/hydra/_internal/hydra.py:119: UserWarning: Future Hydra versions will no longer change working directory at job runtime by default.\n",
      "See https://hydra.cc/docs/1.2/upgrades/1.1_to_1.2/changes_to_job_working_dir/ for more information.\n",
      "  ret = run_job(\n",
      "\n",
      "[2023-04-30 22:55:55,802][__main__][INFO] - Load labels\n",
      "FPS 23\n",
      "MoviePy - Writing audio in /home/mark/PycharmProjects/video_summarization/workspace/J0nA4VgnoCo.mp3\n"
     ]
    },
    {
     "name": "stderr",
     "output_type": "stream",
     "text": [
      "                                                                        \r"
     ]
    },
    {
     "name": "stdout",
     "output_type": "stream",
     "text": [
      "MoviePy - Done.\n",
      "[2023-04-30 22:56:03,012][__main__][INFO] - Converted video to image\n",
      "[2023-04-30 23:00:51,748][__main__][INFO] - Got image caption\n",
      "Batch: start 0, end 34\n",
      "Batch size 35 ann size 35\n",
      "Batch: start 35, end 71\n",
      "Batch size 37 ann size 37\n",
      "Batch: start 72, end 104\n",
      "Batch size 33 ann size 33\n",
      "Batch: start 105, end 139\n",
      "Batch size 35 ann size 35\n",
      "Batch: start 140, end 178\n",
      "Batch size 39 ann size 39\n",
      "Batch: start 179, end 213\n",
      "Batch size 35 ann size 35\n",
      "Batch: start 214, end 253\n",
      "Batch size 40 ann size 40\n",
      "Batch: start 254, end 284\n",
      "Batch size 31 ann size 31\n",
      "Batch: start 285, end 321\n",
      "Batch size 37 ann size 37\n",
      "Batch: start 322, end 358\n",
      "Batch size 37 ann size 37\n",
      "Batch: start 359, end 393\n",
      "Batch size 35 ann size 35\n",
      "Batch: start 394, end 423\n",
      "Batch size 30 ann size 30\n",
      "Batch: start 424, end 454\n",
      "Batch size 31 ann size 31\n",
      "Batch: start 455, end 487\n",
      "Batch size 33 ann size 33\n",
      "Batch: start 488, end 525\n",
      "Batch size 38 ann size 38\n",
      "Batch: start 526, end 563\n",
      "Batch size 38 ann size 38\n",
      "Batch: start 564, end 609\n",
      "Batch size 46 ann size 46\n",
      "Saved in /home/mark/PycharmProjects/video_summarization/workspace/instructions_J0nA4VgnoCo.json\n",
      "python ../video_summarization/pipelines/create_instruct_dataset.py video_path=videos/Kids_Playing_In_Leaves.mp4\n",
      "[2023-04-30 23:01:19,156][HYDRA] /home/mark/miniconda3/envs/diplom/lib/python3.10/site-packages/hydra/_internal/hydra.py:119: UserWarning: Future Hydra versions will no longer change working directory at job runtime by default.\n",
      "See https://hydra.cc/docs/1.2/upgrades/1.1_to_1.2/changes_to_job_working_dir/ for more information.\n",
      "  ret = run_job(\n",
      "\n",
      "[2023-04-30 23:01:31,078][__main__][INFO] - Load labels\n",
      "FPS 29\n",
      "MoviePy - Writing audio in /home/mark/PycharmProjects/video_summarization/workspace/Kids_Playing_In_Leaves.mp3\n"
     ]
    },
    {
     "name": "stderr",
     "output_type": "stream",
     "text": [
      "                                                                      \r"
     ]
    },
    {
     "name": "stdout",
     "output_type": "stream",
     "text": [
      "MoviePy - Done.\n",
      "[2023-04-30 23:01:33,161][__main__][INFO] - Converted video to image\n",
      "[2023-04-30 23:02:33,458][__main__][INFO] - Got image caption\n",
      "Batch: start 0, end 50\n",
      "Batch size 51 ann size 51\n",
      "Batch: start 51, end 88\n",
      "Batch size 38 ann size 38\n",
      "Batch: start 89, end 109\n",
      "Batch size 21 ann size 21\n",
      "Saved in /home/mark/PycharmProjects/video_summarization/workspace/instructions_Kids_Playing_In_Leaves.json\n",
      "python ../video_summarization/pipelines/create_instruct_dataset.py video_path=videos/Air_Force_One.mp4\n",
      "[2023-04-30 23:02:41,358][HYDRA] /home/mark/miniconda3/envs/diplom/lib/python3.10/site-packages/hydra/_internal/hydra.py:119: UserWarning: Future Hydra versions will no longer change working directory at job runtime by default.\n",
      "See https://hydra.cc/docs/1.2/upgrades/1.1_to_1.2/changes_to_job_working_dir/ for more information.\n",
      "  ret = run_job(\n",
      "\n",
      "[2023-04-30 23:02:48,575][__main__][INFO] - Load labels\n",
      "FPS 25\n",
      "MoviePy - Writing audio in /home/mark/PycharmProjects/video_summarization/workspace/Air_Force_One.mp3\n"
     ]
    },
    {
     "name": "stderr",
     "output_type": "stream",
     "text": [
      "                                                                      \r"
     ]
    },
    {
     "name": "stdout",
     "output_type": "stream",
     "text": [
      "MoviePy - Done.\n",
      "[2023-04-30 23:02:50,699][__main__][INFO] - Converted video to image\n",
      "[2023-04-30 23:04:35,537][__main__][INFO] - Got image caption\n",
      "Batch: start 0, end 58\n",
      "Batch size 59 ann size 59\n",
      "Batch: start 59, end 119\n",
      "Batch size 61 ann size 61\n",
      "Batch: start 120, end 179\n",
      "Batch size 60 ann size 60\n",
      "Saved in /home/mark/PycharmProjects/video_summarization/workspace/instructions_Air_Force_One.json\n",
      "python ../video_summarization/pipelines/create_instruct_dataset.py video_path=videos/PJrm840pAUI.mp4\n",
      "[2023-04-30 23:04:46,524][HYDRA] /home/mark/miniconda3/envs/diplom/lib/python3.10/site-packages/hydra/_internal/hydra.py:119: UserWarning: Future Hydra versions will no longer change working directory at job runtime by default.\n",
      "See https://hydra.cc/docs/1.2/upgrades/1.1_to_1.2/changes_to_job_working_dir/ for more information.\n",
      "  ret = run_job(\n",
      "\n",
      "[2023-04-30 23:04:53,449][__main__][INFO] - Load labels\n",
      "FPS 24\n",
      "MoviePy - Writing audio in /home/mark/PycharmProjects/video_summarization/workspace/PJrm840pAUI.mp3\n"
     ]
    },
    {
     "name": "stderr",
     "output_type": "stream",
     "text": [
      "                                                                      \r"
     ]
    },
    {
     "name": "stdout",
     "output_type": "stream",
     "text": [
      "MoviePy - Done.\n",
      "[2023-04-30 23:04:57,764][__main__][INFO] - Converted video to image\n",
      "[2023-04-30 23:07:01,774][__main__][INFO] - Got image caption\n",
      "Batch: start 0, end 32\n",
      "Batch size 33 ann size 33\n",
      "Batch: start 33, end 75\n",
      "Batch size 43 ann size 43\n",
      "Batch: start 76, end 109\n",
      "Batch size 34 ann size 34\n",
      "Batch: start 110, end 146\n",
      "Batch size 37 ann size 37\n",
      "Batch: start 147, end 190\n",
      "Batch size 44 ann size 44\n",
      "Batch: start 191, end 227\n",
      "Batch size 37 ann size 37\n",
      "Batch: start 228, end 274\n",
      "Batch size 47 ann size 47\n",
      "Saved in /home/mark/PycharmProjects/video_summarization/workspace/instructions_PJrm840pAUI.json\n",
      "python ../video_summarization/pipelines/create_instruct_dataset.py video_path=videos/LRw_obCPUt0.mp4\n",
      "[2023-04-30 23:07:12,272][HYDRA] /home/mark/miniconda3/envs/diplom/lib/python3.10/site-packages/hydra/_internal/hydra.py:119: UserWarning: Future Hydra versions will no longer change working directory at job runtime by default.\n",
      "See https://hydra.cc/docs/1.2/upgrades/1.1_to_1.2/changes_to_job_working_dir/ for more information.\n",
      "  ret = run_job(\n",
      "\n",
      "[2023-04-30 23:07:18,833][__main__][INFO] - Load labels\n",
      "FPS 23\n",
      "MoviePy - Writing audio in /home/mark/PycharmProjects/video_summarization/workspace/LRw_obCPUt0.mp3\n"
     ]
    },
    {
     "name": "stderr",
     "output_type": "stream",
     "text": [
      "                                                                      \r"
     ]
    },
    {
     "name": "stdout",
     "output_type": "stream",
     "text": [
      "MoviePy - Done.\n",
      "[2023-04-30 23:07:21,568][__main__][INFO] - Converted video to image\n",
      "[2023-04-30 23:09:24,454][__main__][INFO] - Got image caption\n",
      "Batch: start 0, end 17\n",
      "Batch size 18 ann size 18\n",
      "Batch: start 18, end 37\n",
      "Batch size 20 ann size 20\n",
      "Batch: start 38, end 58\n",
      "Batch size 21 ann size 21\n",
      "Batch: start 59, end 82\n",
      "Batch size 24 ann size 24\n",
      "Batch: start 83, end 103\n",
      "Batch size 21 ann size 21\n",
      "Batch: start 104, end 125\n",
      "Batch size 22 ann size 22\n",
      "Batch: start 126, end 147\n",
      "Batch size 22 ann size 22\n",
      "Batch: start 148, end 167\n",
      "Batch size 20 ann size 20\n",
      "Batch: start 168, end 191\n",
      "Batch size 24 ann size 24\n",
      "Batch: start 192, end 213\n",
      "Batch size 22 ann size 22\n",
      "Batch: start 214, end 241\n",
      "Batch size 28 ann size 28\n",
      "Batch: start 242, end 271\n",
      "Batch size 30 ann size 30\n",
      "Saved in /home/mark/PycharmProjects/video_summarization/workspace/instructions_LRw_obCPUt0.json\n",
      "python ../video_summarization/pipelines/create_instruct_dataset.py video_path=videos/AwmHb44_ouw.mp4\n",
      "[2023-04-30 23:09:34,277][HYDRA] /home/mark/miniconda3/envs/diplom/lib/python3.10/site-packages/hydra/_internal/hydra.py:119: UserWarning: Future Hydra versions will no longer change working directory at job runtime by default.\n",
      "See https://hydra.cc/docs/1.2/upgrades/1.1_to_1.2/changes_to_job_working_dir/ for more information.\n",
      "  ret = run_job(\n",
      "\n",
      "[2023-04-30 23:09:41,429][__main__][INFO] - Load labels\n",
      "FPS 29\n",
      "MoviePy - Writing audio in /home/mark/PycharmProjects/video_summarization/workspace/AwmHb44_ouw.mp3\n"
     ]
    },
    {
     "name": "stderr",
     "output_type": "stream",
     "text": [
      "                                                                      \r"
     ]
    },
    {
     "name": "stdout",
     "output_type": "stream",
     "text": [
      "MoviePy - Done.\n",
      "[2023-04-30 23:09:47,390][__main__][INFO] - Converted video to image\n",
      "[2023-04-30 23:12:33,100][__main__][INFO] - Got image caption\n",
      "Batch: start 0, end 21\n",
      "Batch size 22 ann size 22\n",
      "Batch: start 22, end 43\n",
      "Batch size 22 ann size 22\n",
      "Batch: start 44, end 63\n",
      "Batch size 20 ann size 20\n",
      "Batch: start 64, end 84\n",
      "Batch size 21 ann size 21\n",
      "Batch: start 85, end 106\n",
      "Batch size 22 ann size 22\n",
      "Batch: start 107, end 127\n",
      "Batch size 21 ann size 21\n",
      "Batch: start 128, end 147\n",
      "Batch size 20 ann size 20\n",
      "Batch: start 148, end 167\n",
      "Batch size 20 ann size 20\n",
      "Batch: start 168, end 190\n",
      "Batch size 23 ann size 23\n",
      "Batch: start 191, end 211\n",
      "Batch size 21 ann size 21\n",
      "Batch: start 212, end 230\n",
      "Batch size 19 ann size 19\n",
      "Batch: start 231, end 253\n",
      "Batch size 23 ann size 23\n",
      "Batch: start 254, end 275\n",
      "Batch size 22 ann size 22\n",
      "Batch: start 276, end 296\n",
      "Batch size 21 ann size 21\n",
      "Batch: start 297, end 322\n",
      "Batch size 26 ann size 26\n",
      "Batch: start 323, end 343\n",
      "Batch size 21 ann size 21\n",
      "Batch: start 344, end 365\n",
      "Batch size 22 ann size 22\n",
      "Saved in /home/mark/PycharmProjects/video_summarization/workspace/instructions_AwmHb44_ouw.json\n",
      "python ../video_summarization/pipelines/create_instruct_dataset.py video_path=videos/fWutDQy1nnY.mp4\n",
      "[2023-04-30 23:12:47,461][HYDRA] /home/mark/miniconda3/envs/diplom/lib/python3.10/site-packages/hydra/_internal/hydra.py:119: UserWarning: Future Hydra versions will no longer change working directory at job runtime by default.\n",
      "See https://hydra.cc/docs/1.2/upgrades/1.1_to_1.2/changes_to_job_working_dir/ for more information.\n",
      "  ret = run_job(\n",
      "\n",
      "[2023-04-30 23:13:01,465][__main__][INFO] - Load labels\n",
      "FPS 29\n",
      "MoviePy - Writing audio in /home/mark/PycharmProjects/video_summarization/workspace/fWutDQy1nnY.mp3\n"
     ]
    },
    {
     "name": "stderr",
     "output_type": "stream",
     "text": [
      "                                                                        \r"
     ]
    },
    {
     "name": "stdout",
     "output_type": "stream",
     "text": [
      "MoviePy - Done.\n",
      "[2023-04-30 23:13:11,203][__main__][INFO] - Converted video to image\n",
      "[2023-04-30 23:17:43,696][__main__][INFO] - Got image caption\n",
      "Batch: start 0, end 39\n",
      "Batch size 40 ann size 40\n",
      "Batch: start 40, end 78\n",
      "Batch size 39 ann size 39\n",
      "Batch: start 79, end 119\n",
      "Batch size 41 ann size 41\n",
      "Batch: start 120, end 167\n",
      "Batch size 48 ann size 48\n",
      "Batch: start 168, end 213\n",
      "Batch size 46 ann size 46\n",
      "Batch: start 214, end 252\n",
      "Batch size 39 ann size 39\n",
      "Batch: start 253, end 296\n",
      "Batch size 44 ann size 44\n",
      "Batch: start 297, end 354\n",
      "Batch size 58 ann size 58\n",
      "Batch: start 355, end 411\n",
      "Batch size 57 ann size 57\n",
      "Batch: start 412, end 451\n",
      "Batch size 40 ann size 40\n",
      "Batch: start 452, end 503\n",
      "Batch size 52 ann size 52\n",
      "Batch: start 504, end 534\n",
      "Batch size 31 ann size 31\n",
      "Batch: start 535, end 589\n",
      "Batch size 55 ann size 55\n",
      "Batch: start 590, end 604\n",
      "Batch size 15 ann size 15\n",
      "Saved in /home/mark/PycharmProjects/video_summarization/workspace/instructions_fWutDQy1nnY.json\n",
      "python ../video_summarization/pipelines/create_instruct_dataset.py video_path=videos/3eYKfiOEJNs.mp4\n",
      "[2023-04-30 23:18:14,293][HYDRA] /home/mark/miniconda3/envs/diplom/lib/python3.10/site-packages/hydra/_internal/hydra.py:119: UserWarning: Future Hydra versions will no longer change working directory at job runtime by default.\n",
      "See https://hydra.cc/docs/1.2/upgrades/1.1_to_1.2/changes_to_job_working_dir/ for more information.\n",
      "  ret = run_job(\n",
      "\n",
      "[2023-04-30 23:18:22,235][__main__][INFO] - Load labels\n",
      "FPS 25\n",
      "MoviePy - Writing audio in /home/mark/PycharmProjects/video_summarization/workspace/3eYKfiOEJNs.mp3\n"
     ]
    },
    {
     "name": "stderr",
     "output_type": "stream",
     "text": [
      "                                                                      \r"
     ]
    },
    {
     "name": "stdout",
     "output_type": "stream",
     "text": [
      "MoviePy - Done.\n",
      "[2023-04-30 23:18:24,619][__main__][INFO] - Converted video to image\n",
      "[2023-04-30 23:19:51,923][__main__][INFO] - Got image caption\n",
      "Batch: start 0, end 26\n",
      "Batch size 27 ann size 27\n",
      "Batch: start 27, end 53\n",
      "Batch size 27 ann size 27\n",
      "Batch: start 54, end 95\n",
      "Batch size 42 ann size 42\n",
      "Batch: start 96, end 133\n",
      "Batch size 38 ann size 38\n",
      "Batch: start 134, end 162\n",
      "Batch size 29 ann size 29\n",
      "Batch: start 163, end 194\n",
      "Batch size 32 ann size 32\n",
      "Saved in /home/mark/PycharmProjects/video_summarization/workspace/instructions_3eYKfiOEJNs.json\n",
      "python ../video_summarization/pipelines/create_instruct_dataset.py video_path=videos/Playing_Ball.mp4\n",
      "[2023-04-30 23:20:05,150][HYDRA] /home/mark/miniconda3/envs/diplom/lib/python3.10/site-packages/hydra/_internal/hydra.py:119: UserWarning: Future Hydra versions will no longer change working directory at job runtime by default.\n",
      "See https://hydra.cc/docs/1.2/upgrades/1.1_to_1.2/changes_to_job_working_dir/ for more information.\n",
      "  ret = run_job(\n",
      "\n",
      "[2023-04-30 23:20:19,683][__main__][INFO] - Load labels\n",
      "FPS 30\n",
      "MoviePy - Writing audio in /home/mark/PycharmProjects/video_summarization/workspace/Playing_Ball.mp3\n"
     ]
    },
    {
     "name": "stderr",
     "output_type": "stream",
     "text": [
      "                                                                      \r"
     ]
    },
    {
     "name": "stdout",
     "output_type": "stream",
     "text": [
      "MoviePy - Done.\n",
      "[2023-04-30 23:20:20,796][__main__][INFO] - Converted video to image\n",
      "[2023-04-30 23:21:08,156][__main__][INFO] - Got image caption\n",
      "Batch: start 0, end 54\n",
      "Batch size 55 ann size 55\n",
      "Batch: start 55, end 103\n",
      "Batch size 49 ann size 49\n",
      "Saved in /home/mark/PycharmProjects/video_summarization/workspace/instructions_Playing_Ball.json\n",
      "python ../video_summarization/pipelines/create_instruct_dataset.py video_path=videos/St_Maarten_Landing.mp4\n",
      "[2023-04-30 23:21:20,399][HYDRA] /home/mark/miniconda3/envs/diplom/lib/python3.10/site-packages/hydra/_internal/hydra.py:119: UserWarning: Future Hydra versions will no longer change working directory at job runtime by default.\n",
      "See https://hydra.cc/docs/1.2/upgrades/1.1_to_1.2/changes_to_job_working_dir/ for more information.\n",
      "  ret = run_job(\n",
      "\n",
      "[2023-04-30 23:21:28,162][__main__][INFO] - Load labels\n",
      "FPS 25\n"
     ]
    },
    {
     "name": "stderr",
     "output_type": "stream",
     "text": [
      "Error executing job with overrides: ['video_path=videos/St_Maarten_Landing.mp4']\n",
      "Traceback (most recent call last):\n",
      "  File \"/home/mark/PycharmProjects/video_summarization/notebooks/../video_summarization/pipelines/create_instruct_dataset.py\", line 43, in main\n",
      "    audio_path = save_audio(video_path, target_path=cfg[\"work_path\"])\n",
      "  File \"/home/mark/PycharmProjects/video_summarization/video_summarization/src/io.py\", line 14, in save_audio\n",
      "    VideoFileClip(file_path).audio.write_audiofile(result_path)\n",
      "AttributeError: 'NoneType' object has no attribute 'write_audiofile'\n",
      "\n",
      "Set the environment variable HYDRA_FULL_ERROR=1 for a complete stack trace.\n"
     ]
    },
    {
     "name": "stdout",
     "output_type": "stream",
     "text": [
      "python ../video_summarization/pipelines/create_instruct_dataset.py video_path=videos/Notre_Dame.mp4\n",
      "[2023-04-30 23:21:32,165][HYDRA] /home/mark/miniconda3/envs/diplom/lib/python3.10/site-packages/hydra/_internal/hydra.py:119: UserWarning: Future Hydra versions will no longer change working directory at job runtime by default.\n",
      "See https://hydra.cc/docs/1.2/upgrades/1.1_to_1.2/changes_to_job_working_dir/ for more information.\n",
      "  ret = run_job(\n",
      "\n",
      "[2023-04-30 23:21:38,951][__main__][INFO] - Load labels\n",
      "FPS 24\n",
      "MoviePy - Writing audio in /home/mark/PycharmProjects/video_summarization/workspace/Notre_Dame.mp3\n"
     ]
    },
    {
     "name": "stderr",
     "output_type": "stream",
     "text": [
      "                                                                      \r"
     ]
    },
    {
     "name": "stdout",
     "output_type": "stream",
     "text": [
      "MoviePy - Done.\n",
      "[2023-04-30 23:21:42,304][__main__][INFO] - Converted video to image\n",
      "[2023-04-30 23:23:35,631][__main__][INFO] - Got image caption\n",
      "Batch: start 0, end 55\n",
      "Batch size 56 ann size 56\n",
      "Batch: start 56, end 112\n",
      "Batch size 57 ann size 57\n",
      "Batch: start 113, end 172\n",
      "Batch size 60 ann size 60\n",
      "Batch: start 173, end 191\n",
      "Batch size 19 ann size 19\n",
      "Saved in /home/mark/PycharmProjects/video_summarization/workspace/instructions_Notre_Dame.json\n",
      "python ../video_summarization/pipelines/create_instruct_dataset.py video_path=videos/Excavators_River_Crossing.mp4\n",
      "[2023-04-30 23:23:51,342][HYDRA] /home/mark/miniconda3/envs/diplom/lib/python3.10/site-packages/hydra/_internal/hydra.py:119: UserWarning: Future Hydra versions will no longer change working directory at job runtime by default.\n",
      "See https://hydra.cc/docs/1.2/upgrades/1.1_to_1.2/changes_to_job_working_dir/ for more information.\n",
      "  ret = run_job(\n",
      "\n",
      "[2023-04-30 23:23:58,304][__main__][INFO] - Load labels\n",
      "FPS 25\n",
      "MoviePy - Writing audio in /home/mark/PycharmProjects/video_summarization/workspace/Excavators_River_Crossing.mp3\n"
     ]
    },
    {
     "name": "stderr",
     "output_type": "stream",
     "text": [
      "                                                                      \r"
     ]
    },
    {
     "name": "stdout",
     "output_type": "stream",
     "text": [
      "MoviePy - Done.\n",
      "[2023-04-30 23:24:03,490][__main__][INFO] - Converted video to image\n",
      "[2023-04-30 23:27:04,437][__main__][INFO] - Got image caption\n",
      "Batch: start 0, end 53\n",
      "Batch size 54 ann size 54\n",
      "Batch: start 54, end 109\n",
      "Batch size 56 ann size 56\n",
      "Batch: start 110, end 168\n",
      "Batch size 59 ann size 59\n",
      "Batch: start 169, end 226\n",
      "Batch size 58 ann size 58\n",
      "Batch: start 227, end 283\n",
      "Batch size 57 ann size 57\n",
      "Batch: start 284, end 341\n",
      "Batch size 58 ann size 58\n",
      "Batch: start 342, end 388\n",
      "Batch size 47 ann size 47\n",
      "Saved in /home/mark/PycharmProjects/video_summarization/workspace/instructions_Excavators_River_Crossing.json\n",
      "python ../video_summarization/pipelines/create_instruct_dataset.py video_path=videos/byxOvuiIJV0.mp4\n",
      "[2023-04-30 23:27:14,592][HYDRA] /home/mark/miniconda3/envs/diplom/lib/python3.10/site-packages/hydra/_internal/hydra.py:119: UserWarning: Future Hydra versions will no longer change working directory at job runtime by default.\n",
      "See https://hydra.cc/docs/1.2/upgrades/1.1_to_1.2/changes_to_job_working_dir/ for more information.\n",
      "  ret = run_job(\n",
      "\n",
      "[2023-04-30 23:27:22,148][__main__][INFO] - Load labels\n",
      "FPS 23\n",
      "MoviePy - Writing audio in /home/mark/PycharmProjects/video_summarization/workspace/byxOvuiIJV0.mp3\n"
     ]
    },
    {
     "name": "stderr",
     "output_type": "stream",
     "text": [
      "                                                                      \r"
     ]
    },
    {
     "name": "stdout",
     "output_type": "stream",
     "text": [
      "MoviePy - Done.\n",
      "[2023-04-30 23:27:24,297][__main__][INFO] - Converted video to image\n",
      "[2023-04-30 23:28:36,949][__main__][INFO] - Got image caption\n",
      "Batch: start 0, end 36\n",
      "Batch size 37 ann size 37\n",
      "Batch: start 37, end 87\n",
      "Batch size 51 ann size 51\n",
      "Batch: start 88, end 144\n",
      "Batch size 57 ann size 57\n",
      "Batch: start 145, end 161\n",
      "Batch size 17 ann size 17\n",
      "Saved in /home/mark/PycharmProjects/video_summarization/workspace/instructions_byxOvuiIJV0.json\n",
      "python ../video_summarization/pipelines/create_instruct_dataset.py video_path=videos/Se3oxnaPsz0.mp4\n",
      "[2023-04-30 23:28:59,669][HYDRA] /home/mark/miniconda3/envs/diplom/lib/python3.10/site-packages/hydra/_internal/hydra.py:119: UserWarning: Future Hydra versions will no longer change working directory at job runtime by default.\n",
      "See https://hydra.cc/docs/1.2/upgrades/1.1_to_1.2/changes_to_job_working_dir/ for more information.\n",
      "  ret = run_job(\n",
      "\n",
      "[2023-04-30 23:29:11,568][__main__][INFO] - Load labels\n",
      "FPS 30\n",
      "MoviePy - Writing audio in /home/mark/PycharmProjects/video_summarization/workspace/Se3oxnaPsz0.mp3\n"
     ]
    },
    {
     "name": "stderr",
     "output_type": "stream",
     "text": [
      "                                                                      \r"
     ]
    },
    {
     "name": "stdout",
     "output_type": "stream",
     "text": [
      "MoviePy - Done.\n",
      "[2023-04-30 23:29:13,307][__main__][INFO] - Converted video to image\n",
      "[2023-04-30 23:30:15,200][__main__][INFO] - Got image caption\n",
      "Batch: start 0, end 20\n",
      "Batch size 21 ann size 21\n",
      "Batch: start 21, end 40\n",
      "Batch size 20 ann size 20\n",
      "Batch: start 41, end 64\n",
      "Batch size 24 ann size 24\n",
      "Batch: start 65, end 85\n",
      "Batch size 21 ann size 21\n",
      "Batch: start 86, end 102\n",
      "Batch size 17 ann size 17\n",
      "Batch: start 103, end 121\n",
      "Batch size 19 ann size 19\n",
      "Batch: start 122, end 138\n",
      "Batch size 17 ann size 17\n",
      "Saved in /home/mark/PycharmProjects/video_summarization/workspace/instructions_Se3oxnaPsz0.json\n",
      "python ../video_summarization/pipelines/create_instruct_dataset.py video_path=videos/Playing_On_Water_Slide.mp4\n",
      "[2023-04-30 23:30:23,885][HYDRA] /home/mark/miniconda3/envs/diplom/lib/python3.10/site-packages/hydra/_internal/hydra.py:119: UserWarning: Future Hydra versions will no longer change working directory at job runtime by default.\n",
      "See https://hydra.cc/docs/1.2/upgrades/1.1_to_1.2/changes_to_job_working_dir/ for more information.\n",
      "  ret = run_job(\n",
      "\n",
      "[2023-04-30 23:30:33,041][__main__][INFO] - Load labels\n",
      "FPS 29\n",
      "MoviePy - Writing audio in /home/mark/PycharmProjects/video_summarization/workspace/Playing_On_Water_Slide.mp3\n"
     ]
    },
    {
     "name": "stderr",
     "output_type": "stream",
     "text": [
      "                                                                      \r"
     ]
    },
    {
     "name": "stdout",
     "output_type": "stream",
     "text": [
      "MoviePy - Done.\n",
      "[2023-04-30 23:30:34,003][__main__][INFO] - Converted video to image\n",
      "[2023-04-30 23:31:22,603][__main__][INFO] - Got image caption\n",
      "Batch: start 0, end 52\n",
      "Batch size 53 ann size 53\n",
      "Batch: start 53, end 99\n",
      "Batch size 47 ann size 47\n",
      "Batch: start 100, end 105\n",
      "Batch size 6 ann size 6\n",
      "Saved in /home/mark/PycharmProjects/video_summarization/workspace/instructions_Playing_On_Water_Slide.json\n",
      "python ../video_summarization/pipelines/create_instruct_dataset.py video_path=videos/Statue_Of_Liberty.mp4\n",
      "[2023-04-30 23:31:39,643][HYDRA] /home/mark/miniconda3/envs/diplom/lib/python3.10/site-packages/hydra/_internal/hydra.py:119: UserWarning: Future Hydra versions will no longer change working directory at job runtime by default.\n",
      "See https://hydra.cc/docs/1.2/upgrades/1.1_to_1.2/changes_to_job_working_dir/ for more information.\n",
      "  ret = run_job(\n",
      "\n",
      "[2023-04-30 23:31:50,645][__main__][INFO] - Load labels\n",
      "FPS 25\n",
      "MoviePy - Writing audio in /home/mark/PycharmProjects/video_summarization/workspace/Statue_Of_Liberty.mp3\n"
     ]
    },
    {
     "name": "stderr",
     "output_type": "stream",
     "text": [
      "                                                                      \r"
     ]
    },
    {
     "name": "stdout",
     "output_type": "stream",
     "text": [
      "MoviePy - Done.\n",
      "[2023-04-30 23:31:53,418][__main__][INFO] - Converted video to image\n",
      "[2023-04-30 23:33:04,678][__main__][INFO] - Got image caption\n",
      "Batch: start 0, end 55\n",
      "Batch size 56 ann size 56\n",
      "Batch: start 56, end 109\n",
      "Batch size 54 ann size 54\n",
      "Batch: start 110, end 154\n",
      "Batch size 45 ann size 45\n",
      "Saved in /home/mark/PycharmProjects/video_summarization/workspace/instructions_Statue_Of_Liberty.json\n",
      "python ../video_summarization/pipelines/create_instruct_dataset.py video_path=videos/Bike_Polo.mp4\n",
      "[2023-04-30 23:33:20,793][HYDRA] /home/mark/miniconda3/envs/diplom/lib/python3.10/site-packages/hydra/_internal/hydra.py:119: UserWarning: Future Hydra versions will no longer change working directory at job runtime by default.\n",
      "See https://hydra.cc/docs/1.2/upgrades/1.1_to_1.2/changes_to_job_working_dir/ for more information.\n",
      "  ret = run_job(\n",
      "\n",
      "[2023-04-30 23:33:28,318][__main__][INFO] - Load labels\n",
      "FPS 30\n",
      "MoviePy - Writing audio in /home/mark/PycharmProjects/video_summarization/workspace/Bike_Polo.mp3\n"
     ]
    },
    {
     "name": "stderr",
     "output_type": "stream",
     "text": [
      "                                                                      \r"
     ]
    },
    {
     "name": "stdout",
     "output_type": "stream",
     "text": [
      "MoviePy - Done.\n",
      "[2023-04-30 23:33:29,330][__main__][INFO] - Converted video to image\n",
      "[2023-04-30 23:34:21,792][__main__][INFO] - Got image caption\n",
      "Batch: start 0, end 49\n",
      "Batch size 50 ann size 50\n",
      "Batch: start 50, end 102\n",
      "Batch size 53 ann size 53\n",
      "Saved in /home/mark/PycharmProjects/video_summarization/workspace/instructions_Bike_Polo.json\n",
      "python ../video_summarization/pipelines/create_instruct_dataset.py video_path=videos/98MoyGZKHXc.mp4\n",
      "[2023-04-30 23:34:29,945][HYDRA] /home/mark/miniconda3/envs/diplom/lib/python3.10/site-packages/hydra/_internal/hydra.py:119: UserWarning: Future Hydra versions will no longer change working directory at job runtime by default.\n",
      "See https://hydra.cc/docs/1.2/upgrades/1.1_to_1.2/changes_to_job_working_dir/ for more information.\n",
      "  ret = run_job(\n",
      "\n",
      "[2023-04-30 23:34:37,032][__main__][INFO] - Load labels\n",
      "FPS 25\n",
      "MoviePy - Writing audio in /home/mark/PycharmProjects/video_summarization/workspace/98MoyGZKHXc.mp3\n"
     ]
    },
    {
     "name": "stderr",
     "output_type": "stream",
     "text": [
      "                                                                      \r"
     ]
    },
    {
     "name": "stdout",
     "output_type": "stream",
     "text": [
      "MoviePy - Done.\n",
      "[2023-04-30 23:34:39,898][__main__][INFO] - Converted video to image\n",
      "[2023-04-30 23:36:04,782][__main__][INFO] - Got image caption\n",
      "Batch: start 0, end 21\n",
      "Batch size 22 ann size 22\n",
      "Batch: start 22, end 42\n",
      "Batch size 21 ann size 21\n",
      "Batch: start 43, end 66\n",
      "Batch size 24 ann size 24\n",
      "Batch: start 67, end 90\n",
      "Batch size 24 ann size 24\n",
      "Batch: start 91, end 115\n",
      "Batch size 25 ann size 25\n",
      "Batch: start 116, end 141\n",
      "Batch size 26 ann size 26\n",
      "Batch: start 142, end 164\n",
      "Batch size 23 ann size 23\n",
      "Batch: start 165, end 187\n",
      "Batch size 23 ann size 23\n",
      "Saved in /home/mark/PycharmProjects/video_summarization/workspace/instructions_98MoyGZKHXc.json\n",
      "python ../video_summarization/pipelines/create_instruct_dataset.py video_path=videos/xwqBXPGE9pQ.mp4\n",
      "[2023-04-30 23:36:13,851][HYDRA] /home/mark/miniconda3/envs/diplom/lib/python3.10/site-packages/hydra/_internal/hydra.py:119: UserWarning: Future Hydra versions will no longer change working directory at job runtime by default.\n",
      "See https://hydra.cc/docs/1.2/upgrades/1.1_to_1.2/changes_to_job_working_dir/ for more information.\n",
      "  ret = run_job(\n",
      "\n",
      "[2023-04-30 23:36:20,949][__main__][INFO] - Load labels\n",
      "FPS 29\n",
      "MoviePy - Writing audio in /home/mark/PycharmProjects/video_summarization/workspace/xwqBXPGE9pQ.mp3\n"
     ]
    },
    {
     "name": "stderr",
     "output_type": "stream",
     "text": [
      "                                                                      \r"
     ]
    },
    {
     "name": "stdout",
     "output_type": "stream",
     "text": [
      "MoviePy - Done.\n",
      "[2023-04-30 23:36:24,341][__main__][INFO] - Converted video to image\n",
      "[2023-04-30 23:38:14,148][__main__][INFO] - Got image caption\n",
      "Batch: start 0, end 26\n",
      "Batch size 27 ann size 27\n",
      "Batch: start 27, end 45\n",
      "Batch size 19 ann size 19\n",
      "Batch: start 46, end 72\n",
      "Batch size 27 ann size 27\n",
      "Batch: start 73, end 98\n",
      "Batch size 26 ann size 26\n",
      "Batch: start 99, end 121\n",
      "Batch size 23 ann size 23\n",
      "Batch: start 122, end 143\n",
      "Batch size 22 ann size 22\n",
      "Batch: start 144, end 168\n",
      "Batch size 25 ann size 25\n",
      "Batch: start 169, end 190\n",
      "Batch size 22 ann size 22\n",
      "Batch: start 191, end 221\n",
      "Batch size 31 ann size 31\n",
      "Batch: start 222, end 241\n",
      "Batch size 20 ann size 20\n",
      "Saved in /home/mark/PycharmProjects/video_summarization/workspace/instructions_xwqBXPGE9pQ.json\n",
      "python ../video_summarization/pipelines/create_instruct_dataset.py video_path=videos/Car_Over_Camera.mp4\n",
      "[2023-04-30 23:38:24,034][HYDRA] /home/mark/miniconda3/envs/diplom/lib/python3.10/site-packages/hydra/_internal/hydra.py:119: UserWarning: Future Hydra versions will no longer change working directory at job runtime by default.\n",
      "See https://hydra.cc/docs/1.2/upgrades/1.1_to_1.2/changes_to_job_working_dir/ for more information.\n",
      "  ret = run_job(\n",
      "\n",
      "[2023-04-30 23:38:31,083][__main__][INFO] - Load labels\n",
      "FPS 29\n",
      "MoviePy - Writing audio in /home/mark/PycharmProjects/video_summarization/workspace/Car_Over_Camera.mp3\n"
     ]
    },
    {
     "name": "stderr",
     "output_type": "stream",
     "text": [
      "                                                                      \r"
     ]
    },
    {
     "name": "stdout",
     "output_type": "stream",
     "text": [
      "MoviePy - Done.\n",
      "[2023-04-30 23:38:32,527][__main__][INFO] - Converted video to image\n",
      "[2023-04-30 23:39:43,510][__main__][INFO] - Got image caption\n",
      "Batch: start 0, end 54\n",
      "Batch size 55 ann size 55\n",
      "Batch: start 55, end 115\n",
      "Batch size 61 ann size 61\n",
      "Batch: start 116, end 151\n",
      "Batch size 36 ann size 36\n",
      "Saved in /home/mark/PycharmProjects/video_summarization/workspace/instructions_Car_Over_Camera.json\n",
      "python ../video_summarization/pipelines/create_instruct_dataset.py video_path=videos/4wU_LUjG5Ic.mp4\n",
      "[2023-04-30 23:39:50,546][HYDRA] /home/mark/miniconda3/envs/diplom/lib/python3.10/site-packages/hydra/_internal/hydra.py:119: UserWarning: Future Hydra versions will no longer change working directory at job runtime by default.\n",
      "See https://hydra.cc/docs/1.2/upgrades/1.1_to_1.2/changes_to_job_working_dir/ for more information.\n",
      "  ret = run_job(\n",
      "\n",
      "[2023-04-30 23:39:58,670][__main__][INFO] - Load labels\n",
      "FPS 23\n",
      "MoviePy - Writing audio in /home/mark/PycharmProjects/video_summarization/workspace/4wU_LUjG5Ic.mp3\n"
     ]
    },
    {
     "name": "stderr",
     "output_type": "stream",
     "text": [
      "                                                                      \r"
     ]
    },
    {
     "name": "stdout",
     "output_type": "stream",
     "text": [
      "MoviePy - Done.\n",
      "[2023-04-30 23:40:01,782][__main__][INFO] - Converted video to image\n",
      "[2023-04-30 23:41:21,248][__main__][INFO] - Got image caption\n",
      "Batch: start 0, end 21\n",
      "Batch size 22 ann size 22\n",
      "Batch: start 22, end 43\n",
      "Batch size 22 ann size 22\n",
      "Batch: start 44, end 81\n",
      "Batch size 38 ann size 38\n",
      "Batch: start 82, end 103\n",
      "Batch size 22 ann size 22\n",
      "Batch: start 104, end 127\n",
      "Batch size 24 ann size 24\n",
      "Batch: start 128, end 173\n",
      "Batch size 46 ann size 46\n",
      "Batch: start 174, end 174\n",
      "Batch size 1 ann size 1\n",
      "Saved in /home/mark/PycharmProjects/video_summarization/workspace/instructions_4wU_LUjG5Ic.json\n",
      "python ../video_summarization/pipelines/create_instruct_dataset.py video_path=videos/akI8YFjEmUw.mp4\n",
      "[2023-04-30 23:41:29,198][HYDRA] /home/mark/miniconda3/envs/diplom/lib/python3.10/site-packages/hydra/_internal/hydra.py:119: UserWarning: Future Hydra versions will no longer change working directory at job runtime by default.\n",
      "See https://hydra.cc/docs/1.2/upgrades/1.1_to_1.2/changes_to_job_working_dir/ for more information.\n",
      "  ret = run_job(\n",
      "\n",
      "[2023-04-30 23:41:37,429][__main__][INFO] - Load labels\n",
      "FPS 29\n",
      "MoviePy - Writing audio in /home/mark/PycharmProjects/video_summarization/workspace/akI8YFjEmUw.mp3\n"
     ]
    },
    {
     "name": "stderr",
     "output_type": "stream",
     "text": [
      "                                                                      \r"
     ]
    },
    {
     "name": "stdout",
     "output_type": "stream",
     "text": [
      "MoviePy - Done.\n",
      "[2023-04-30 23:41:38,915][__main__][INFO] - Converted video to image\n",
      "[2023-04-30 23:42:40,850][__main__][INFO] - Got image caption\n",
      "Batch: start 0, end 20\n",
      "Batch size 21 ann size 21\n",
      "Batch: start 21, end 45\n",
      "Batch size 25 ann size 25\n",
      "Batch: start 46, end 64\n",
      "Batch size 19 ann size 19\n",
      "Batch: start 65, end 88\n",
      "Batch size 24 ann size 24\n",
      "Batch: start 89, end 114\n",
      "Batch size 26 ann size 26\n",
      "Batch: start 115, end 137\n",
      "Batch size 23 ann size 23\n",
      "Saved in /home/mark/PycharmProjects/video_summarization/workspace/instructions_akI8YFjEmUw.json\n",
      "python ../video_summarization/pipelines/create_instruct_dataset.py video_path=videos/_xMr-HKMfVA.mp4\n",
      "[2023-04-30 23:42:48,658][HYDRA] /home/mark/miniconda3/envs/diplom/lib/python3.10/site-packages/hydra/_internal/hydra.py:119: UserWarning: Future Hydra versions will no longer change working directory at job runtime by default.\n",
      "See https://hydra.cc/docs/1.2/upgrades/1.1_to_1.2/changes_to_job_working_dir/ for more information.\n",
      "  ret = run_job(\n",
      "\n",
      "[2023-04-30 23:42:55,865][__main__][INFO] - Load labels\n",
      "FPS 29\n",
      "MoviePy - Writing audio in /home/mark/PycharmProjects/video_summarization/workspace/_xMr-HKMfVA.mp3\n"
     ]
    },
    {
     "name": "stderr",
     "output_type": "stream",
     "text": [
      "                                                                      \r"
     ]
    },
    {
     "name": "stdout",
     "output_type": "stream",
     "text": [
      "MoviePy - Done.\n",
      "[2023-04-30 23:42:58,323][__main__][INFO] - Converted video to image\n",
      "[2023-04-30 23:44:07,567][__main__][INFO] - Got image caption\n",
      "Batch: start 0, end 55\n",
      "Batch size 56 ann size 56\n",
      "Batch: start 56, end 113\n",
      "Batch size 58 ann size 58\n",
      "Batch: start 114, end 153\n",
      "Batch size 40 ann size 40\n",
      "Saved in /home/mark/PycharmProjects/video_summarization/workspace/instructions__xMr-HKMfVA.json\n",
      "python ../video_summarization/pipelines/create_instruct_dataset.py video_path=videos/i3wAGJaaktw.mp4\n",
      "[2023-04-30 23:44:16,131][HYDRA] /home/mark/miniconda3/envs/diplom/lib/python3.10/site-packages/hydra/_internal/hydra.py:119: UserWarning: Future Hydra versions will no longer change working directory at job runtime by default.\n",
      "See https://hydra.cc/docs/1.2/upgrades/1.1_to_1.2/changes_to_job_working_dir/ for more information.\n",
      "  ret = run_job(\n",
      "\n",
      "[2023-04-30 23:44:23,527][__main__][INFO] - Load labels\n",
      "FPS 29\n",
      "MoviePy - Writing audio in /home/mark/PycharmProjects/video_summarization/workspace/i3wAGJaaktw.mp3\n"
     ]
    },
    {
     "name": "stderr",
     "output_type": "stream",
     "text": [
      "                                                                      \r"
     ]
    },
    {
     "name": "stdout",
     "output_type": "stream",
     "text": [
      "MoviePy - Done.\n",
      "[2023-04-30 23:44:25,778][__main__][INFO] - Converted video to image\n",
      "[2023-04-30 23:45:40,912][__main__][INFO] - Got image caption\n",
      "Batch: start 0, end 21\n",
      "Batch size 22 ann size 22\n",
      "Batch: start 22, end 41\n",
      "Batch size 20 ann size 20\n",
      "Batch: start 42, end 64\n",
      "Batch size 23 ann size 23\n",
      "Batch: start 65, end 85\n",
      "Batch size 21 ann size 21\n",
      "Batch: start 86, end 112\n",
      "Batch size 27 ann size 27\n",
      "Batch: start 113, end 135\n",
      "Batch size 23 ann size 23\n",
      "Batch: start 136, end 162\n",
      "Batch size 27 ann size 27\n",
      "Saved in /home/mark/PycharmProjects/video_summarization/workspace/instructions_i3wAGJaaktw.json\n",
      "python ../video_summarization/pipelines/create_instruct_dataset.py video_path=videos/EYqVtI9YWJA.mp4\n",
      "[2023-04-30 23:45:49,956][HYDRA] /home/mark/miniconda3/envs/diplom/lib/python3.10/site-packages/hydra/_internal/hydra.py:119: UserWarning: Future Hydra versions will no longer change working directory at job runtime by default.\n",
      "See https://hydra.cc/docs/1.2/upgrades/1.1_to_1.2/changes_to_job_working_dir/ for more information.\n",
      "  ret = run_job(\n",
      "\n",
      "[2023-04-30 23:46:00,403][__main__][INFO] - Load labels\n",
      "FPS 29\n",
      "MoviePy - Writing audio in /home/mark/PycharmProjects/video_summarization/workspace/EYqVtI9YWJA.mp3\n"
     ]
    },
    {
     "name": "stderr",
     "output_type": "stream",
     "text": [
      "                                                                      \r"
     ]
    },
    {
     "name": "stdout",
     "output_type": "stream",
     "text": [
      "MoviePy - Done.\n",
      "[2023-04-30 23:46:03,226][__main__][INFO] - Converted video to image\n",
      "[2023-04-30 23:47:36,124][__main__][INFO] - Got image caption\n",
      "Batch: start 0, end 25\n",
      "Batch size 26 ann size 26\n",
      "Batch: start 26, end 49\n",
      "Batch size 24 ann size 24\n",
      "Batch: start 50, end 72\n",
      "Batch size 23 ann size 23\n",
      "Batch: start 73, end 94\n",
      "Batch size 22 ann size 22\n",
      "Batch: start 95, end 114\n",
      "Batch size 20 ann size 20\n",
      "Batch: start 115, end 137\n",
      "Batch size 23 ann size 23\n",
      "Batch: start 138, end 159\n",
      "Batch size 22 ann size 22\n",
      "Batch: start 160, end 186\n",
      "Batch size 27 ann size 27\n",
      "Batch: start 187, end 204\n",
      "Batch size 18 ann size 18\n",
      "Saved in /home/mark/PycharmProjects/video_summarization/workspace/instructions_EYqVtI9YWJA.json\n",
      "python ../video_summarization/pipelines/create_instruct_dataset.py video_path=videos/xmEERLqJ2kU.mp4\n",
      "[2023-04-30 23:47:47,860][HYDRA] /home/mark/miniconda3/envs/diplom/lib/python3.10/site-packages/hydra/_internal/hydra.py:119: UserWarning: Future Hydra versions will no longer change working directory at job runtime by default.\n",
      "See https://hydra.cc/docs/1.2/upgrades/1.1_to_1.2/changes_to_job_working_dir/ for more information.\n",
      "  ret = run_job(\n",
      "\n",
      "[2023-04-30 23:47:57,955][__main__][INFO] - Load labels\n",
      "FPS 29\n",
      "MoviePy - Writing audio in /home/mark/PycharmProjects/video_summarization/workspace/xmEERLqJ2kU.mp3\n"
     ]
    },
    {
     "name": "stderr",
     "output_type": "stream",
     "text": [
      "                                                                      \r"
     ]
    },
    {
     "name": "stdout",
     "output_type": "stream",
     "text": [
      "MoviePy - Done.\n",
      "[2023-04-30 23:48:05,026][__main__][INFO] - Converted video to image\n",
      "[2023-04-30 23:51:38,365][__main__][INFO] - Got image caption\n",
      "Batch: start 0, end 36\n",
      "Batch size 37 ann size 37\n",
      "Batch: start 37, end 59\n",
      "Batch size 23 ann size 23\n",
      "Batch: start 60, end 86\n",
      "Batch size 27 ann size 27\n",
      "Batch: start 87, end 110\n",
      "Batch size 24 ann size 24\n",
      "Batch: start 111, end 143\n",
      "Batch size 33 ann size 33\n",
      "Batch: start 144, end 171\n",
      "Batch size 28 ann size 28\n",
      "Batch: start 172, end 204\n",
      "Batch size 33 ann size 33\n",
      "Batch: start 205, end 254\n",
      "Batch size 50 ann size 50\n",
      "Batch: start 255, end 313\n",
      "Batch size 59 ann size 59\n",
      "Batch: start 314, end 376\n",
      "Batch size 63 ann size 63\n",
      "Batch: start 377, end 441\n",
      "Batch size 65 ann size 65\n",
      "Batch: start 442, end 460\n",
      "Batch size 19 ann size 19\n",
      "Saved in /home/mark/PycharmProjects/video_summarization/workspace/instructions_xmEERLqJ2kU.json\n",
      "python ../video_summarization/pipelines/create_instruct_dataset.py video_path=videos/37rzWOQsNIw.mp4\n",
      "[2023-04-30 23:52:00,867][HYDRA] /home/mark/miniconda3/envs/diplom/lib/python3.10/site-packages/hydra/_internal/hydra.py:119: UserWarning: Future Hydra versions will no longer change working directory at job runtime by default.\n",
      "See https://hydra.cc/docs/1.2/upgrades/1.1_to_1.2/changes_to_job_working_dir/ for more information.\n",
      "  ret = run_job(\n",
      "\n",
      "[2023-04-30 23:52:12,347][__main__][INFO] - Load labels\n",
      "FPS 29\n",
      "MoviePy - Writing audio in /home/mark/PycharmProjects/video_summarization/workspace/37rzWOQsNIw.mp3\n"
     ]
    },
    {
     "name": "stderr",
     "output_type": "stream",
     "text": [
      "                                                                      \r"
     ]
    },
    {
     "name": "stdout",
     "output_type": "stream",
     "text": [
      "MoviePy - Done.\n",
      "[2023-04-30 23:52:14,377][__main__][INFO] - Converted video to image\n",
      "[2023-04-30 23:53:44,639][__main__][INFO] - Got image caption\n",
      "Batch: start 0, end 37\n",
      "Batch size 38 ann size 38\n",
      "Batch: start 38, end 82\n",
      "Batch size 45 ann size 45\n",
      "Batch: start 83, end 136\n",
      "Batch size 54 ann size 54\n",
      "Batch: start 137, end 183\n",
      "Batch size 47 ann size 47\n",
      "Batch: start 184, end 197\n",
      "Batch size 14 ann size 14\n",
      "Saved in /home/mark/PycharmProjects/video_summarization/workspace/instructions_37rzWOQsNIw.json\n",
      "python ../video_summarization/pipelines/create_instruct_dataset.py video_path=videos/Paintball.mp4\n",
      "[2023-04-30 23:53:56,830][HYDRA] /home/mark/miniconda3/envs/diplom/lib/python3.10/site-packages/hydra/_internal/hydra.py:119: UserWarning: Future Hydra versions will no longer change working directory at job runtime by default.\n",
      "See https://hydra.cc/docs/1.2/upgrades/1.1_to_1.2/changes_to_job_working_dir/ for more information.\n",
      "  ret = run_job(\n",
      "\n",
      "[2023-04-30 23:54:08,370][__main__][INFO] - Load labels\n",
      "FPS 23\n",
      "MoviePy - Writing audio in /home/mark/PycharmProjects/video_summarization/workspace/Paintball.mp3\n"
     ]
    },
    {
     "name": "stderr",
     "output_type": "stream",
     "text": [
      "                                                                      \r"
     ]
    },
    {
     "name": "stdout",
     "output_type": "stream",
     "text": [
      "MoviePy - Done.\n",
      "[2023-04-30 23:54:13,206][__main__][INFO] - Converted video to image\n",
      "[2023-04-30 23:56:24,108][__main__][INFO] - Got image caption\n",
      "Batch: start 0, end 54\n",
      "Batch size 55 ann size 55\n",
      "Batch: start 55, end 112\n",
      "Batch size 58 ann size 58\n",
      "Batch: start 113, end 168\n",
      "Batch size 56 ann size 56\n",
      "Batch: start 169, end 223\n",
      "Batch size 55 ann size 55\n",
      "Batch: start 224, end 265\n",
      "Batch size 42 ann size 42\n",
      "Saved in /home/mark/PycharmProjects/video_summarization/workspace/instructions_Paintball.json\n",
      "python ../video_summarization/pipelines/create_instruct_dataset.py video_path=videos/EE-bNr36nyA.mp4\n",
      "[2023-04-30 23:56:40,075][HYDRA] /home/mark/miniconda3/envs/diplom/lib/python3.10/site-packages/hydra/_internal/hydra.py:119: UserWarning: Future Hydra versions will no longer change working directory at job runtime by default.\n",
      "See https://hydra.cc/docs/1.2/upgrades/1.1_to_1.2/changes_to_job_working_dir/ for more information.\n",
      "  ret = run_job(\n",
      "\n",
      "[2023-04-30 23:56:46,771][__main__][INFO] - Load labels\n",
      "FPS 29\n",
      "MoviePy - Writing audio in /home/mark/PycharmProjects/video_summarization/workspace/EE-bNr36nyA.mp3\n"
     ]
    },
    {
     "name": "stderr",
     "output_type": "stream",
     "text": [
      "                                                                      \r"
     ]
    },
    {
     "name": "stdout",
     "output_type": "stream",
     "text": [
      "MoviePy - Done.\n",
      "[2023-04-30 23:56:48,234][__main__][INFO] - Converted video to image\n",
      "[2023-04-30 23:57:34,374][__main__][INFO] - Got image caption\n",
      "Batch: start 0, end 20\n",
      "Batch size 21 ann size 21\n",
      "Batch: start 21, end 43\n",
      "Batch size 23 ann size 23\n",
      "Batch: start 44, end 65\n",
      "Batch size 22 ann size 22\n",
      "Batch: start 66, end 89\n",
      "Batch size 24 ann size 24\n",
      "Batch: start 90, end 101\n",
      "Batch size 12 ann size 12\n",
      "Saved in /home/mark/PycharmProjects/video_summarization/workspace/instructions_EE-bNr36nyA.json\n",
      "python ../video_summarization/pipelines/create_instruct_dataset.py video_path=videos/Bus_In_Rock_Tunnel.mp4\n",
      "[2023-04-30 23:57:41,716][HYDRA] /home/mark/miniconda3/envs/diplom/lib/python3.10/site-packages/hydra/_internal/hydra.py:119: UserWarning: Future Hydra versions will no longer change working directory at job runtime by default.\n",
      "See https://hydra.cc/docs/1.2/upgrades/1.1_to_1.2/changes_to_job_working_dir/ for more information.\n",
      "  ret = run_job(\n",
      "\n",
      "[2023-04-30 23:57:51,048][__main__][INFO] - Load labels\n",
      "FPS 30\n",
      "MoviePy - Writing audio in /home/mark/PycharmProjects/video_summarization/workspace/Bus_In_Rock_Tunnel.mp3\n"
     ]
    },
    {
     "name": "stderr",
     "output_type": "stream",
     "text": [
      "                                                                      \r"
     ]
    },
    {
     "name": "stdout",
     "output_type": "stream",
     "text": [
      "MoviePy - Done.\n",
      "[2023-04-30 23:57:53,792][__main__][INFO] - Converted video to image\n",
      "[2023-04-30 23:59:13,916][__main__][INFO] - Got image caption\n",
      "Batch: start 0, end 17\n",
      "Batch size 18 ann size 18\n",
      "Batch: start 18, end 38\n",
      "Batch size 21 ann size 21\n",
      "Batch: start 39, end 56\n",
      "Batch size 18 ann size 18\n",
      "Batch: start 57, end 90\n",
      "Batch size 34 ann size 34\n",
      "Batch: start 91, end 126\n",
      "Batch size 36 ann size 36\n",
      "Batch: start 127, end 152\n",
      "Batch size 26 ann size 26\n",
      "Batch: start 153, end 171\n",
      "Batch size 19 ann size 19\n",
      "Saved in /home/mark/PycharmProjects/video_summarization/workspace/instructions_Bus_In_Rock_Tunnel.json\n",
      "python ../video_summarization/pipelines/create_instruct_dataset.py video_path=videos/cjibtmSLxQ4.mp4\n",
      "[2023-04-30 23:59:20,934][HYDRA] /home/mark/miniconda3/envs/diplom/lib/python3.10/site-packages/hydra/_internal/hydra.py:119: UserWarning: Future Hydra versions will no longer change working directory at job runtime by default.\n",
      "See https://hydra.cc/docs/1.2/upgrades/1.1_to_1.2/changes_to_job_working_dir/ for more information.\n",
      "  ret = run_job(\n",
      "\n",
      "[2023-04-30 23:59:28,701][__main__][INFO] - Load labels\n",
      "FPS 29\n",
      "MoviePy - Writing audio in /home/mark/PycharmProjects/video_summarization/workspace/cjibtmSLxQ4.mp3\n"
     ]
    },
    {
     "name": "stderr",
     "output_type": "stream",
     "text": [
      "                                                                        \r"
     ]
    },
    {
     "name": "stdout",
     "output_type": "stream",
     "text": [
      "MoviePy - Done.\n",
      "[2023-04-30 23:59:37,724][__main__][INFO] - Converted video to image\n",
      "[2023-05-01 00:04:40,754][__main__][INFO] - Got image caption\n",
      "Batch: start 0, end 43\n",
      "Batch size 44 ann size 44\n",
      "Batch: start 44, end 89\n",
      "Batch size 46 ann size 46\n",
      "Batch: start 90, end 132\n",
      "Batch size 43 ann size 43\n",
      "Batch: start 133, end 178\n",
      "Batch size 46 ann size 46\n",
      "Batch: start 179, end 233\n",
      "Batch size 55 ann size 55\n",
      "Batch: start 234, end 286\n",
      "Batch size 53 ann size 53\n",
      "Batch: start 287, end 331\n",
      "Batch size 45 ann size 45\n",
      "Batch: start 332, end 374\n",
      "Batch size 43 ann size 43\n",
      "Batch: start 375, end 416\n",
      "Batch size 42 ann size 42\n",
      "Batch: start 417, end 455\n",
      "Batch size 39 ann size 39\n",
      "Batch: start 456, end 499\n",
      "Batch size 44 ann size 44\n",
      "Batch: start 500, end 548\n",
      "Batch size 49 ann size 49\n",
      "Batch: start 549, end 600\n",
      "Batch size 52 ann size 52\n",
      "Batch: start 601, end 640\n",
      "Batch size 40 ann size 40\n",
      "Batch: start 641, end 669\n",
      "Batch size 29 ann size 29\n",
      "Saved in /home/mark/PycharmProjects/video_summarization/workspace/instructions_cjibtmSLxQ4.json\n",
      "python ../video_summarization/pipelines/create_instruct_dataset.py video_path=videos/Paluma_Jump.mp4\n",
      "[2023-05-01 00:05:42,949][HYDRA] /home/mark/miniconda3/envs/diplom/lib/python3.10/site-packages/hydra/_internal/hydra.py:119: UserWarning: Future Hydra versions will no longer change working directory at job runtime by default.\n",
      "See https://hydra.cc/docs/1.2/upgrades/1.1_to_1.2/changes_to_job_working_dir/ for more information.\n",
      "  ret = run_job(\n",
      "\n",
      "[2023-05-01 00:05:53,006][__main__][INFO] - Load labels\n",
      "FPS 29\n",
      "MoviePy - Writing audio in /home/mark/PycharmProjects/video_summarization/workspace/Paluma_Jump.mp3\n"
     ]
    },
    {
     "name": "stderr",
     "output_type": "stream",
     "text": [
      "                                                                      \r"
     ]
    },
    {
     "name": "stdout",
     "output_type": "stream",
     "text": [
      "MoviePy - Done.\n",
      "[2023-05-01 00:05:53,837][__main__][INFO] - Converted video to image\n",
      "[2023-05-01 00:06:37,208][__main__][INFO] - Got image caption\n",
      "Batch: start 0, end 54\n",
      "Batch size 55 ann size 55\n",
      "Batch: start 55, end 88\n",
      "Batch size 34 ann size 34\n",
      "Saved in /home/mark/PycharmProjects/video_summarization/workspace/instructions_Paluma_Jump.json\n",
      "python ../video_summarization/pipelines/create_instruct_dataset.py video_path=videos/VuWGsYPqAX8.mp4\n",
      "[2023-05-01 00:06:46,775][HYDRA] /home/mark/miniconda3/envs/diplom/lib/python3.10/site-packages/hydra/_internal/hydra.py:119: UserWarning: Future Hydra versions will no longer change working directory at job runtime by default.\n",
      "See https://hydra.cc/docs/1.2/upgrades/1.1_to_1.2/changes_to_job_working_dir/ for more information.\n",
      "  ret = run_job(\n",
      "\n",
      "[2023-05-01 00:06:57,523][__main__][INFO] - Load labels\n",
      "FPS 25\n",
      "MoviePy - Writing audio in /home/mark/PycharmProjects/video_summarization/workspace/VuWGsYPqAX8.mp3\n"
     ]
    },
    {
     "name": "stderr",
     "output_type": "stream",
     "text": [
      "                                                                      \r"
     ]
    },
    {
     "name": "stdout",
     "output_type": "stream",
     "text": [
      "MoviePy - Done.\n",
      "[2023-05-01 00:07:01,082][__main__][INFO] - Converted video to image\n",
      "[2023-05-01 00:08:38,368][__main__][INFO] - Got image caption\n",
      "Batch: start 0, end 38\n",
      "Batch size 39 ann size 39\n",
      "Batch: start 39, end 81\n",
      "Batch size 43 ann size 43\n",
      "Batch: start 82, end 141\n",
      "Batch size 60 ann size 60\n",
      "Batch: start 142, end 195\n",
      "Batch size 54 ann size 54\n",
      "Batch: start 196, end 216\n",
      "Batch size 21 ann size 21\n",
      "Saved in /home/mark/PycharmProjects/video_summarization/workspace/instructions_VuWGsYPqAX8.json\n",
      "python ../video_summarization/pipelines/create_instruct_dataset.py video_path=videos/gzDbaEs1Rlg.mp4\n",
      "[2023-05-01 00:08:58,766][HYDRA] /home/mark/miniconda3/envs/diplom/lib/python3.10/site-packages/hydra/_internal/hydra.py:119: UserWarning: Future Hydra versions will no longer change working directory at job runtime by default.\n",
      "See https://hydra.cc/docs/1.2/upgrades/1.1_to_1.2/changes_to_job_working_dir/ for more information.\n",
      "  ret = run_job(\n",
      "\n",
      "[2023-05-01 00:09:06,245][__main__][INFO] - Load labels\n",
      "FPS 25\n",
      "MoviePy - Writing audio in /home/mark/PycharmProjects/video_summarization/workspace/gzDbaEs1Rlg.mp3\n"
     ]
    },
    {
     "name": "stderr",
     "output_type": "stream",
     "text": [
      "                                                                      \r"
     ]
    },
    {
     "name": "stdout",
     "output_type": "stream",
     "text": [
      "MoviePy - Done.\n",
      "[2023-05-01 00:09:10,291][__main__][INFO] - Converted video to image\n",
      "[2023-05-01 00:11:20,730][__main__][INFO] - Got image caption\n",
      "Batch: start 0, end 20\n",
      "Batch size 21 ann size 21\n",
      "Batch: start 21, end 40\n",
      "Batch size 20 ann size 20\n",
      "Batch: start 41, end 58\n",
      "Batch size 18 ann size 18\n",
      "Batch: start 59, end 74\n",
      "Batch size 16 ann size 16\n",
      "Batch: start 75, end 92\n",
      "Batch size 18 ann size 18\n",
      "Batch: start 93, end 115\n",
      "Batch size 23 ann size 23\n",
      "Batch: start 116, end 132\n",
      "Batch size 17 ann size 17\n",
      "Batch: start 133, end 145\n",
      "Batch size 13 ann size 13\n",
      "Batch: start 146, end 162\n",
      "Batch size 17 ann size 17\n",
      "Batch: start 163, end 189\n",
      "Batch size 27 ann size 27\n",
      "Batch: start 190, end 206\n",
      "Batch size 17 ann size 17\n",
      "Batch: start 207, end 221\n",
      "Batch size 15 ann size 15\n",
      "Batch: start 222, end 243\n",
      "Batch size 22 ann size 22\n",
      "Batch: start 244, end 260\n",
      "Batch size 17 ann size 17\n",
      "Batch: start 261, end 288\n",
      "Batch size 28 ann size 28\n",
      "Saved in /home/mark/PycharmProjects/video_summarization/workspace/instructions_gzDbaEs1Rlg.json\n",
      "python ../video_summarization/pipelines/create_instruct_dataset.py video_path=videos/eQu1rNs0an0.mp4\n",
      "[2023-05-01 00:11:31,990][HYDRA] /home/mark/miniconda3/envs/diplom/lib/python3.10/site-packages/hydra/_internal/hydra.py:119: UserWarning: Future Hydra versions will no longer change working directory at job runtime by default.\n",
      "See https://hydra.cc/docs/1.2/upgrades/1.1_to_1.2/changes_to_job_working_dir/ for more information.\n",
      "  ret = run_job(\n",
      "\n",
      "[2023-05-01 00:11:40,132][__main__][INFO] - Load labels\n",
      "FPS 29\n",
      "MoviePy - Writing audio in /home/mark/PycharmProjects/video_summarization/workspace/eQu1rNs0an0.mp3\n"
     ]
    },
    {
     "name": "stderr",
     "output_type": "stream",
     "text": [
      "                                                                      \r"
     ]
    },
    {
     "name": "stdout",
     "output_type": "stream",
     "text": [
      "MoviePy - Done.\n",
      "[2023-05-01 00:11:41,998][__main__][INFO] - Converted video to image\n",
      "[2023-05-01 00:12:59,535][__main__][INFO] - Got image caption\n",
      "Batch: start 0, end 32\n",
      "Batch size 33 ann size 33\n",
      "Batch: start 33, end 52\n",
      "Batch size 20 ann size 20\n",
      "Batch: start 53, end 72\n",
      "Batch size 20 ann size 20\n",
      "Batch: start 73, end 91\n",
      "Batch size 19 ann size 19\n",
      "Batch: start 92, end 109\n",
      "Batch size 18 ann size 18\n",
      "Batch: start 110, end 128\n",
      "Batch size 19 ann size 19\n",
      "Batch: start 129, end 164\n",
      "Batch size 36 ann size 36\n",
      "Batch: start 165, end 170\n",
      "Batch size 6 ann size 6\n",
      "Saved in /home/mark/PycharmProjects/video_summarization/workspace/instructions_eQu1rNs0an0.json\n",
      "python ../video_summarization/pipelines/create_instruct_dataset.py video_path=videos/JKpqYvAdIsw.mp4\n",
      "[2023-05-01 00:13:08,155][HYDRA] /home/mark/miniconda3/envs/diplom/lib/python3.10/site-packages/hydra/_internal/hydra.py:119: UserWarning: Future Hydra versions will no longer change working directory at job runtime by default.\n",
      "See https://hydra.cc/docs/1.2/upgrades/1.1_to_1.2/changes_to_job_working_dir/ for more information.\n",
      "  ret = run_job(\n",
      "\n",
      "[2023-05-01 00:13:15,795][__main__][INFO] - Load labels\n",
      "FPS 25\n",
      "MoviePy - Writing audio in /home/mark/PycharmProjects/video_summarization/workspace/JKpqYvAdIsw.mp3\n"
     ]
    },
    {
     "name": "stderr",
     "output_type": "stream",
     "text": [
      "                                                                      \r"
     ]
    },
    {
     "name": "stdout",
     "output_type": "stream",
     "text": [
      "MoviePy - Done.\n",
      "[2023-05-01 00:13:18,029][__main__][INFO] - Converted video to image\n",
      "[2023-05-01 00:14:27,616][__main__][INFO] - Got image caption\n",
      "Batch: start 0, end 27\n",
      "Batch size 28 ann size 28\n",
      "Batch: start 28, end 87\n",
      "Batch size 60 ann size 60\n",
      "Batch: start 88, end 145\n",
      "Batch size 58 ann size 58\n",
      "Batch: start 146, end 152\n",
      "Batch size 7 ann size 7\n",
      "Saved in /home/mark/PycharmProjects/video_summarization/workspace/instructions_JKpqYvAdIsw.json\n",
      "python ../video_summarization/pipelines/create_instruct_dataset.py video_path=videos/kLxoNp-UchI.mp4\n",
      "[2023-05-01 00:15:08,667][HYDRA] /home/mark/miniconda3/envs/diplom/lib/python3.10/site-packages/hydra/_internal/hydra.py:119: UserWarning: Future Hydra versions will no longer change working directory at job runtime by default.\n",
      "See https://hydra.cc/docs/1.2/upgrades/1.1_to_1.2/changes_to_job_working_dir/ for more information.\n",
      "  ret = run_job(\n",
      "\n",
      "[2023-05-01 00:15:17,805][__main__][INFO] - Load labels\n",
      "FPS 29\n",
      "MoviePy - Writing audio in /home/mark/PycharmProjects/video_summarization/workspace/kLxoNp-UchI.mp3\n"
     ]
    },
    {
     "name": "stderr",
     "output_type": "stream",
     "text": [
      "                                                                      \r"
     ]
    },
    {
     "name": "stdout",
     "output_type": "stream",
     "text": [
      "MoviePy - Done.\n",
      "[2023-05-01 00:15:19,835][__main__][INFO] - Converted video to image\n",
      "[2023-05-01 00:16:43,195][__main__][INFO] - Got image caption\n",
      "Batch: start 0, end 31\n",
      "Batch size 32 ann size 32\n",
      "Batch: start 32, end 74\n",
      "Batch size 43 ann size 43\n",
      "Batch: start 75, end 114\n",
      "Batch size 40 ann size 40\n",
      "Batch: start 115, end 134\n",
      "Batch size 20 ann size 20\n",
      "Saved in /home/mark/PycharmProjects/video_summarization/workspace/instructions_kLxoNp-UchI.json\n",
      "python ../video_summarization/pipelines/create_instruct_dataset.py video_path=videos/oDXZc0tZe04.mp4\n",
      "[2023-05-01 00:16:49,682][HYDRA] /home/mark/miniconda3/envs/diplom/lib/python3.10/site-packages/hydra/_internal/hydra.py:119: UserWarning: Future Hydra versions will no longer change working directory at job runtime by default.\n",
      "See https://hydra.cc/docs/1.2/upgrades/1.1_to_1.2/changes_to_job_working_dir/ for more information.\n",
      "  ret = run_job(\n",
      "\n",
      "[2023-05-01 00:16:56,586][__main__][INFO] - Load labels\n",
      "FPS 29\n",
      "MoviePy - Writing audio in /home/mark/PycharmProjects/video_summarization/workspace/oDXZc0tZe04.mp3\n"
     ]
    },
    {
     "name": "stderr",
     "output_type": "stream",
     "text": [
      "                                                                      \r"
     ]
    },
    {
     "name": "stdout",
     "output_type": "stream",
     "text": [
      "MoviePy - Done.\n",
      "[2023-05-01 00:17:02,037][__main__][INFO] - Converted video to image\n",
      "[2023-05-01 00:20:27,345][__main__][INFO] - Got image caption\n",
      "Batch: start 0, end 58\n",
      "Batch size 59 ann size 59\n",
      "Batch: start 59, end 117\n",
      "Batch size 59 ann size 59\n",
      "Batch: start 118, end 176\n",
      "Batch size 59 ann size 59\n",
      "Batch: start 177, end 234\n",
      "Batch size 58 ann size 58\n",
      "Batch: start 235, end 288\n",
      "Batch size 54 ann size 54\n",
      "Batch: start 289, end 340\n",
      "Batch size 52 ann size 52\n",
      "Batch: start 341, end 393\n",
      "Batch size 53 ann size 53\n",
      "Saved in /home/mark/PycharmProjects/video_summarization/workspace/instructions_oDXZc0tZe04.json\n",
      "python ../video_summarization/pipelines/create_instruct_dataset.py video_path=videos/iVt07TCkFM0.mp4\n",
      "[2023-05-01 00:20:44,294][HYDRA] /home/mark/miniconda3/envs/diplom/lib/python3.10/site-packages/hydra/_internal/hydra.py:119: UserWarning: Future Hydra versions will no longer change working directory at job runtime by default.\n",
      "See https://hydra.cc/docs/1.2/upgrades/1.1_to_1.2/changes_to_job_working_dir/ for more information.\n",
      "  ret = run_job(\n",
      "\n",
      "[2023-05-01 00:20:51,721][__main__][INFO] - Load labels\n",
      "FPS 23\n",
      "MoviePy - Writing audio in /home/mark/PycharmProjects/video_summarization/workspace/iVt07TCkFM0.mp3\n"
     ]
    },
    {
     "name": "stderr",
     "output_type": "stream",
     "text": [
      "                                                                      \r"
     ]
    },
    {
     "name": "stdout",
     "output_type": "stream",
     "text": [
      "MoviePy - Done.\n",
      "[2023-05-01 00:20:53,237][__main__][INFO] - Converted video to image\n",
      "[2023-05-01 00:21:40,618][__main__][INFO] - Got image caption\n",
      "Batch: start 0, end 19\n",
      "Batch size 20 ann size 20\n",
      "Batch: start 20, end 43\n",
      "Batch size 24 ann size 24\n",
      "Batch: start 44, end 69\n",
      "Batch size 26 ann size 26\n",
      "Batch: start 70, end 99\n",
      "Batch size 30 ann size 30\n",
      "Batch: start 100, end 108\n",
      "Batch size 9 ann size 9\n",
      "Saved in /home/mark/PycharmProjects/video_summarization/workspace/instructions_iVt07TCkFM0.json\n",
      "python ../video_summarization/pipelines/create_instruct_dataset.py video_path=videos/Yi4Ij2NM7U4.mp4\n",
      "[2023-05-01 00:21:48,238][HYDRA] /home/mark/miniconda3/envs/diplom/lib/python3.10/site-packages/hydra/_internal/hydra.py:119: UserWarning: Future Hydra versions will no longer change working directory at job runtime by default.\n",
      "See https://hydra.cc/docs/1.2/upgrades/1.1_to_1.2/changes_to_job_working_dir/ for more information.\n",
      "  ret = run_job(\n",
      "\n",
      "[2023-05-01 00:21:55,137][__main__][INFO] - Load labels\n",
      "FPS 24\n",
      "MoviePy - Writing audio in /home/mark/PycharmProjects/video_summarization/workspace/Yi4Ij2NM7U4.mp3\n"
     ]
    },
    {
     "name": "stderr",
     "output_type": "stream",
     "text": [
      "                                                                      \r"
     ]
    },
    {
     "name": "stdout",
     "output_type": "stream",
     "text": [
      "MoviePy - Done.\n",
      "[2023-05-01 00:22:01,450][__main__][INFO] - Converted video to image\n",
      "[2023-05-01 00:25:02,691][__main__][INFO] - Got image caption\n",
      "Batch: start 0, end 17\n",
      "Batch size 18 ann size 18\n",
      "Batch: start 18, end 39\n",
      "Batch size 22 ann size 22\n",
      "Batch: start 40, end 61\n",
      "Batch size 22 ann size 22\n",
      "Batch: start 62, end 94\n",
      "Batch size 33 ann size 33\n",
      "Batch: start 95, end 123\n",
      "Batch size 29 ann size 29\n",
      "Batch: start 124, end 143\n",
      "Batch size 20 ann size 20\n",
      "Batch: start 144, end 164\n",
      "Batch size 21 ann size 21\n",
      "Batch: start 165, end 188\n",
      "Batch size 24 ann size 24\n",
      "Batch: start 189, end 209\n",
      "Batch size 21 ann size 21\n",
      "Batch: start 210, end 231\n",
      "Batch size 22 ann size 22\n",
      "Batch: start 232, end 262\n",
      "Batch size 31 ann size 31\n",
      "Batch: start 263, end 289\n",
      "Batch size 27 ann size 27\n",
      "Batch: start 290, end 308\n",
      "Batch size 19 ann size 19\n",
      "Batch: start 309, end 326\n",
      "Batch size 18 ann size 18\n",
      "Batch: start 327, end 343\n",
      "Batch size 17 ann size 17\n",
      "Batch: start 344, end 369\n",
      "Batch size 26 ann size 26\n",
      "Batch: start 370, end 389\n",
      "Batch size 20 ann size 20\n",
      "Batch: start 390, end 405\n",
      "Batch size 16 ann size 16\n",
      "Saved in /home/mark/PycharmProjects/video_summarization/workspace/instructions_Yi4Ij2NM7U4.json\n",
      "python ../video_summarization/pipelines/create_instruct_dataset.py video_path=videos/Uncut_Evening_Flight.mp4\n",
      "[2023-05-01 00:25:15,068][HYDRA] /home/mark/miniconda3/envs/diplom/lib/python3.10/site-packages/hydra/_internal/hydra.py:119: UserWarning: Future Hydra versions will no longer change working directory at job runtime by default.\n",
      "See https://hydra.cc/docs/1.2/upgrades/1.1_to_1.2/changes_to_job_working_dir/ for more information.\n",
      "  ret = run_job(\n",
      "\n",
      "[2023-05-01 00:25:22,479][__main__][INFO] - Load labels\n",
      "FPS 29\n",
      "MoviePy - Writing audio in /home/mark/PycharmProjects/video_summarization/workspace/Uncut_Evening_Flight.mp3\n"
     ]
    },
    {
     "name": "stderr",
     "output_type": "stream",
     "text": [
      "                                                                      \r"
     ]
    },
    {
     "name": "stdout",
     "output_type": "stream",
     "text": [
      "MoviePy - Done.\n",
      "[2023-05-01 00:25:27,356][__main__][INFO] - Converted video to image\n",
      "[2023-05-01 00:28:20,171][__main__][INFO] - Got image caption\n",
      "Batch: start 0, end 59\n",
      "Batch size 60 ann size 60\n",
      "Batch: start 60, end 121\n",
      "Batch size 62 ann size 62\n",
      "Batch: start 122, end 184\n",
      "Batch size 63 ann size 63\n",
      "Batch: start 185, end 244\n",
      "Batch size 60 ann size 60\n",
      "Batch: start 245, end 306\n",
      "Batch size 62 ann size 62\n",
      "Batch: start 307, end 333\n",
      "Batch size 27 ann size 27\n",
      "Saved in /home/mark/PycharmProjects/video_summarization/workspace/instructions_Uncut_Evening_Flight.json\n",
      "python ../video_summarization/pipelines/create_instruct_dataset.py video_path=videos/WxtbjNsCQ8A.mp4\n",
      "[2023-05-01 00:28:39,905][HYDRA] /home/mark/miniconda3/envs/diplom/lib/python3.10/site-packages/hydra/_internal/hydra.py:119: UserWarning: Future Hydra versions will no longer change working directory at job runtime by default.\n",
      "See https://hydra.cc/docs/1.2/upgrades/1.1_to_1.2/changes_to_job_working_dir/ for more information.\n",
      "  ret = run_job(\n",
      "\n",
      "[2023-05-01 00:28:51,378][__main__][INFO] - Load labels\n",
      "FPS 29\n",
      "MoviePy - Writing audio in /home/mark/PycharmProjects/video_summarization/workspace/WxtbjNsCQ8A.mp3\n"
     ]
    },
    {
     "name": "stderr",
     "output_type": "stream",
     "text": [
      "                                                                      \r"
     ]
    },
    {
     "name": "stdout",
     "output_type": "stream",
     "text": [
      "MoviePy - Done.\n",
      "[2023-05-01 00:28:55,070][__main__][INFO] - Converted video to image\n",
      "[2023-05-01 00:30:58,037][__main__][INFO] - Got image caption\n",
      "Batch: start 0, end 23\n",
      "Batch size 24 ann size 24\n",
      "Batch: start 24, end 46\n",
      "Batch size 23 ann size 23\n",
      "Batch: start 47, end 71\n",
      "Batch size 25 ann size 25\n",
      "Batch: start 72, end 98\n",
      "Batch size 27 ann size 27\n",
      "Batch: start 99, end 124\n",
      "Batch size 26 ann size 26\n",
      "Batch: start 125, end 147\n",
      "Batch size 23 ann size 23\n",
      "Batch: start 148, end 173\n",
      "Batch size 26 ann size 26\n",
      "Batch: start 174, end 196\n",
      "Batch size 23 ann size 23\n",
      "Batch: start 197, end 220\n",
      "Batch size 24 ann size 24\n",
      "Batch: start 221, end 260\n",
      "Batch size 40 ann size 40\n",
      "Batch: start 261, end 274\n",
      "Batch size 14 ann size 14\n",
      "Saved in /home/mark/PycharmProjects/video_summarization/workspace/instructions_WxtbjNsCQ8A.json\n",
      "python ../video_summarization/pipelines/create_instruct_dataset.py video_path=videos/uGu_10sucQo.mp4\n",
      "[2023-05-01 00:31:08,694][HYDRA] /home/mark/miniconda3/envs/diplom/lib/python3.10/site-packages/hydra/_internal/hydra.py:119: UserWarning: Future Hydra versions will no longer change working directory at job runtime by default.\n",
      "See https://hydra.cc/docs/1.2/upgrades/1.1_to_1.2/changes_to_job_working_dir/ for more information.\n",
      "  ret = run_job(\n",
      "\n",
      "[2023-05-01 00:31:16,242][__main__][INFO] - Load labels\n",
      "FPS 24\n",
      "MoviePy - Writing audio in /home/mark/PycharmProjects/video_summarization/workspace/uGu_10sucQo.mp3\n"
     ]
    },
    {
     "name": "stderr",
     "output_type": "stream",
     "text": [
      "                                                                      \r"
     ]
    },
    {
     "name": "stdout",
     "output_type": "stream",
     "text": [
      "MoviePy - Done.\n",
      "[2023-05-01 00:31:18,448][__main__][INFO] - Converted video to image\n",
      "[2023-05-01 00:32:33,027][__main__][INFO] - Got image caption\n"
     ]
    },
    {
     "name": "stderr",
     "output_type": "stream",
     "text": [
      "Error executing job with overrides: ['video_path=videos/uGu_10sucQo.mp4']\n",
      "Traceback (most recent call last):\n",
      "  File \"/home/mark/PycharmProjects/video_summarization/notebooks/../video_summarization/pipelines/create_instruct_dataset.py\", line 51, in main\n",
      "    all_texts = merge_results(ic_result, asr_result, cfg['max_tokens_in_batch'])\n",
      "  File \"/home/mark/PycharmProjects/video_summarization/video_summarization/src/llm.py\", line 69, in merge_results\n",
      "    asr_result['wc'] = asr_result['text'].str.split().apply(len)\n",
      "  File \"/home/mark/miniconda3/envs/diplom/lib/python3.10/site-packages/pandas/core/frame.py\", line 3760, in __getitem__\n",
      "    indexer = self.columns.get_loc(key)\n",
      "  File \"/home/mark/miniconda3/envs/diplom/lib/python3.10/site-packages/pandas/core/indexes/range.py\", line 349, in get_loc\n",
      "    raise KeyError(key)\n",
      "KeyError: 'text'\n",
      "\n",
      "Set the environment variable HYDRA_FULL_ERROR=1 for a complete stack trace.\n"
     ]
    },
    {
     "name": "stdout",
     "output_type": "stream",
     "text": [
      "python ../video_summarization/pipelines/create_instruct_dataset.py video_path=videos/GsAD1KT1xo8.mp4\n",
      "[2023-05-01 00:32:49,869][HYDRA] /home/mark/miniconda3/envs/diplom/lib/python3.10/site-packages/hydra/_internal/hydra.py:119: UserWarning: Future Hydra versions will no longer change working directory at job runtime by default.\n",
      "See https://hydra.cc/docs/1.2/upgrades/1.1_to_1.2/changes_to_job_working_dir/ for more information.\n",
      "  ret = run_job(\n",
      "\n",
      "[2023-05-01 00:32:57,242][__main__][INFO] - Load labels\n",
      "FPS 29\n",
      "MoviePy - Writing audio in /home/mark/PycharmProjects/video_summarization/workspace/GsAD1KT1xo8.mp3\n"
     ]
    },
    {
     "name": "stderr",
     "output_type": "stream",
     "text": [
      "                                                                      \r"
     ]
    },
    {
     "name": "stdout",
     "output_type": "stream",
     "text": [
      "MoviePy - Done.\n",
      "[2023-05-01 00:32:59,336][__main__][INFO] - Converted video to image\n",
      "[2023-05-01 00:34:06,193][__main__][INFO] - Got image caption\n",
      "Batch: start 0, end 17\n",
      "Batch size 18 ann size 18\n",
      "Batch: start 18, end 36\n",
      "Batch size 19 ann size 19\n",
      "Batch: start 37, end 53\n",
      "Batch size 17 ann size 17\n",
      "Batch: start 54, end 65\n",
      "Batch size 12 ann size 12\n",
      "Batch: start 66, end 89\n",
      "Batch size 24 ann size 24\n",
      "Batch: start 90, end 105\n",
      "Batch size 16 ann size 16\n",
      "Batch: start 106, end 120\n",
      "Batch size 15 ann size 15\n",
      "Batch: start 121, end 133\n",
      "Batch size 13 ann size 13\n",
      "Batch: start 134, end 150\n",
      "Batch size 17 ann size 17\n",
      "Saved in /home/mark/PycharmProjects/video_summarization/workspace/instructions_GsAD1KT1xo8.json\n",
      "python ../video_summarization/pipelines/create_instruct_dataset.py video_path=videos/Bearpark_Climbing.mp4\n",
      "[2023-05-01 00:34:12,993][HYDRA] /home/mark/miniconda3/envs/diplom/lib/python3.10/site-packages/hydra/_internal/hydra.py:119: UserWarning: Future Hydra versions will no longer change working directory at job runtime by default.\n",
      "See https://hydra.cc/docs/1.2/upgrades/1.1_to_1.2/changes_to_job_working_dir/ for more information.\n",
      "  ret = run_job(\n",
      "\n",
      "[2023-05-01 00:34:21,210][__main__][INFO] - Load labels\n",
      "FPS 25\n",
      "MoviePy - Writing audio in /home/mark/PycharmProjects/video_summarization/workspace/Bearpark_Climbing.mp3\n"
     ]
    },
    {
     "name": "stderr",
     "output_type": "stream",
     "text": [
      "                                                                      \r"
     ]
    },
    {
     "name": "stdout",
     "output_type": "stream",
     "text": [
      "MoviePy - Done.\n",
      "[2023-05-01 00:34:23,773][__main__][INFO] - Converted video to image\n",
      "[2023-05-01 00:35:43,398][__main__][INFO] - Got image caption\n",
      "Batch: start 0, end 57\n",
      "Batch size 58 ann size 58\n",
      "Batch: start 58, end 112\n",
      "Batch size 55 ann size 55\n",
      "Batch: start 113, end 133\n",
      "Batch size 21 ann size 21\n",
      "Saved in /home/mark/PycharmProjects/video_summarization/workspace/instructions_Bearpark_Climbing.json\n",
      "python ../video_summarization/pipelines/create_instruct_dataset.py video_path=videos/jcoYJXDG9sw.mp4\n",
      "[2023-05-01 00:36:00,285][HYDRA] /home/mark/miniconda3/envs/diplom/lib/python3.10/site-packages/hydra/_internal/hydra.py:119: UserWarning: Future Hydra versions will no longer change working directory at job runtime by default.\n",
      "See https://hydra.cc/docs/1.2/upgrades/1.1_to_1.2/changes_to_job_working_dir/ for more information.\n",
      "  ret = run_job(\n",
      "\n",
      "[2023-05-01 00:36:08,709][__main__][INFO] - Load labels\n",
      "FPS 29\n",
      "MoviePy - Writing audio in /home/mark/PycharmProjects/video_summarization/workspace/jcoYJXDG9sw.mp3\n"
     ]
    },
    {
     "name": "stderr",
     "output_type": "stream",
     "text": [
      "                                                                      \r"
     ]
    },
    {
     "name": "stdout",
     "output_type": "stream",
     "text": [
      "MoviePy - Done.\n",
      "[2023-05-01 00:36:10,645][__main__][INFO] - Converted video to image\n",
      "[2023-05-01 00:37:44,093][__main__][INFO] - Got image caption\n",
      "Batch: start 0, end 20\n",
      "Batch size 21 ann size 21\n",
      "Batch: start 21, end 41\n",
      "Batch size 21 ann size 21\n",
      "Batch: start 42, end 64\n",
      "Batch size 23 ann size 23\n",
      "Batch: start 65, end 85\n",
      "Batch size 21 ann size 21\n",
      "Batch: start 86, end 104\n",
      "Batch size 19 ann size 19\n",
      "Batch: start 105, end 128\n",
      "Batch size 24 ann size 24\n",
      "Batch: start 129, end 148\n",
      "Batch size 20 ann size 20\n",
      "Batch: start 149, end 168\n",
      "Batch size 20 ann size 20\n",
      "Batch: start 169, end 185\n",
      "Batch size 17 ann size 17\n",
      "Batch: start 186, end 205\n",
      "Batch size 20 ann size 20\n",
      "Saved in /home/mark/PycharmProjects/video_summarization/workspace/instructions_jcoYJXDG9sw.json\n",
      "python ../video_summarization/pipelines/create_instruct_dataset.py video_path=videos/Valparaiso_Downhill.mp4\n",
      "[2023-05-01 00:37:54,997][HYDRA] /home/mark/miniconda3/envs/diplom/lib/python3.10/site-packages/hydra/_internal/hydra.py:119: UserWarning: Future Hydra versions will no longer change working directory at job runtime by default.\n",
      "See https://hydra.cc/docs/1.2/upgrades/1.1_to_1.2/changes_to_job_working_dir/ for more information.\n",
      "  ret = run_job(\n",
      "\n",
      "[2023-05-01 00:38:03,777][__main__][INFO] - Load labels\n",
      "FPS 29\n",
      "MoviePy - Writing audio in /home/mark/PycharmProjects/video_summarization/workspace/Valparaiso_Downhill.mp3\n"
     ]
    },
    {
     "name": "stderr",
     "output_type": "stream",
     "text": [
      "                                                                      \r"
     ]
    },
    {
     "name": "stdout",
     "output_type": "stream",
     "text": [
      "MoviePy - Done.\n",
      "[2023-05-01 00:38:05,795][__main__][INFO] - Converted video to image\n",
      "[2023-05-01 00:39:40,920][__main__][INFO] - Got image caption\n",
      "Batch: start 0, end 59\n",
      "Batch size 60 ann size 60\n",
      "Batch: start 60, end 120\n",
      "Batch size 61 ann size 61\n",
      "Batch: start 121, end 178\n",
      "Batch size 58 ann size 58\n",
      "Saved in /home/mark/PycharmProjects/video_summarization/workspace/instructions_Valparaiso_Downhill.json\n"
     ]
    }
   ],
   "source": [
    "for video in videos:\n",
    "    cmd = f\"python ../video_summarization/pipelines/create_instruct_dataset.py video_path={video}\"\n",
    "    print(cmd)\n",
    "    os.system(cmd)"
   ]
  },
  {
   "cell_type": "code",
   "execution_count": 19,
   "id": "e4c0b1b2",
   "metadata": {},
   "outputs": [
    {
     "name": "stdout",
     "output_type": "stream",
     "text": [
      "524\n",
      "\n",
      "        Summarize the video by description data\n",
      "\n",
      "         second                                        text_ic                             text_asr\n",
      "      0  a desert landscape with a few small buildings               Take care to theiruts,\n",
      "      1  a desert landscape with a few small buildings               Take care to theiruts,\n",
      "      2       a desert area with a few small buildings               Take care to theiruts,\n",
      "      3       a desert area with a few small buildings               Take care to theiruts,\n",
      "      4  a desert landscape with a few small buildings   please turn your room on the hall.\n",
      "      5       a desert area with a few small buildings   please turn your room on the hall.\n",
      "      6  a desert landscape with a few small buildings   please turn your room on the hall.\n",
      "      7  a desert landscape with a few small buildings   please turn your room on the hall.\n",
      "      8  a desert landscape with a few small buildings   please turn your room on the hall.\n",
      "      9       a desert area with a few small buildings                                     \n",
      "     10  a desert landscape with a few small buildings                                     \n",
      "     11  a desert landscape with a few small buildings                                     \n",
      "     12  a desert landscape with a few small buildings                                     \n",
      "     13  a desert landscape with a few small buildings                                     \n",
      "     14  a desert landscape with a few small buildings                                     \n",
      "     15  a desert landscape with a few small buildings                                     \n",
      "     16  a desert landscape with a few small buildings                                     \n",
      "     17  a desert landscape with a few small buildings                                     \n",
      "     18  a desert landscape with a few small buildings                                     \n",
      "     19  a desert landscape with a few small buildings                                     \n",
      "     20  a desert landscape with a few small buildings                                     \n",
      "     21       a desert area with a few small buildings                                     \n",
      "     22  a desert landscape with a few small buildings                                     \n",
      "     23  a desert landscape with a few small buildings                                     \n",
      "     24  a desert landscape with a few small buildings                                     \n",
      "     25  a desert landscape with a few small buildings                                     \n",
      "     26  a desert landscape with a few small buildings                                     \n",
      "     27           a sandy beach with a few small boats                                     \n",
      "     28  a desert landscape with a few small buildings                                     \n",
      "     29  a desert landscape with a few small buildings                                     \n",
      "     30  a desert landscape with a few small buildings                                     \n",
      "     31  a desert landscape with a few small buildings                                     \n",
      "     32  a desert landscape with a few small buildings                                     \n",
      "     33  a desert landscape with a few small buildings                                     \n",
      "     34  a desert landscape with a few small buildings                                     \n",
      "     35  a desert landscape with a few small buildings                                     \n",
      "     36  a desert landscape with a few small buildings                                     \n",
      "     37  a desert landscape with a few small buildings                                     \n",
      "     38       a blurry photo of a person standing in a                                     \n",
      "     39          a blurry photo of a sheep in the dirt                                     \n",
      "     40           a blurry photo of a sheep in a field                                     \n",
      "     41         a blurry photo of a small white object                                     \n",
      "     42       an old fashioned photo of a small animal                                     \n",
      "     43    a brown and white animal standing on top of                                     \n",
      "     44      a small brown animal standing on top of a                                     \n",
      "     45            an old photo of a small animal on a                                     \n",
      "     46           a blurry photo of a rock wall with a                                     \n",
      "     47                 an old photo of a small animal                                     \n",
      "     48              an animal is standing in the dirt                                     \n",
      "     49                 an old photo of a small animal                                     \n",
      "     50       a brown and white cow standing next to a                                     \n",
      "     51       an old fashioned photo of a small animal                                     \n",
      "     52      a small brown animal standing on top of a                                     \n",
      "     53       an animal is standing in the middle of a                                     \n",
      "     54     a blurry photo of a brown and white animal                                     \n",
      "\n",
      "        Return summarization as table with columns: second, importance. importance should be from 0 to 1.\n",
      "        Summarization should has following structure:\n",
      "        Second Importance\n",
      "        <start_second>  <importance>\n",
      "        ....\n",
      "        <end_second>   <importance>\n",
      "         \n",
      "Second Importance \n",
      "0 0.0\n",
      "1 0.0\n",
      "2 0.06666666666666667\n",
      "3 0.06666666666666667\n",
      "4 0.06666666666666667\n",
      "5 0.2\n",
      "6 0.13333333333333333\n",
      "7 0.06666666666666667\n",
      "8 0.06666666666666667\n",
      "9 0.0\n",
      "10 0.0\n",
      "11 0.0\n",
      "12 0.0\n",
      "13 0.0\n",
      "14 0.0\n",
      "15 0.0\n",
      "16 0.0\n",
      "17 0.0\n",
      "18 0.0\n",
      "19 0.0\n",
      "20 0.06666666666666667\n",
      "21 0.06666666666666667\n",
      "22 0.06666666666666667\n",
      "23 0.06666666666666667\n",
      "24 0.06666666666666667\n",
      "25 0.06666666666666667\n",
      "26 0.0\n",
      "27 0.0\n",
      "28 0.0\n",
      "29 0.0\n",
      "30 0.0\n",
      "31 0.0\n",
      "32 0.0\n",
      "33 0.0\n",
      "34 0.06666666666666667\n",
      "35 0.0\n",
      "36 0.0\n",
      "37 0.13333333333333333\n",
      "38 0.3333333333333333\n",
      "39 0.26666666666666666\n",
      "40 0.2\n",
      "41 0.06666666666666667\n",
      "42 0.0\n",
      "43 0.0\n",
      "44 0.0\n",
      "45 0.0\n",
      "46 0.0\n",
      "47 0.0\n",
      "48 0.0\n",
      "49 0.0\n",
      "50 0.0\n",
      "51 0.0\n",
      "52 0.0\n",
      "53 0.0\n",
      "54 0.0\n",
      "\n"
     ]
    }
   ],
   "source": [
    "# Может уменьшить размер инструкции?\n",
    "\n",
    "import json\n",
    "import glob\n",
    "\n",
    "\n",
    "instructions = []\n",
    "for instruct_path in glob.glob(\"../workspace/*.json\"):\n",
    "    with open(instruct_path) as f:\n",
    "        inst = json.loads(f.read())\n",
    "        for i in inst:\n",
    "            i['input'] = ''\n",
    "            instructions.append(i)\n",
    "\n",
    "instructions = list(map(lambda i:i, instructions))\n",
    "print(len(istructions))\n",
    "print(instruct[0]['instruction'], instruct[0]['output'])"
   ]
  },
  {
   "cell_type": "code",
   "execution_count": 21,
   "id": "474e166e",
   "metadata": {},
   "outputs": [],
   "source": [
    "with open(\"instructions.json\", \"w\") as f:\n",
    "    json.dump(instructions, f)"
   ]
  },
  {
   "cell_type": "code",
   "execution_count": null,
   "id": "c69208c5",
   "metadata": {},
   "outputs": [],
   "source": []
  }
 ],
 "metadata": {
  "kernelspec": {
   "display_name": "Python 3 (ipykernel)",
   "language": "python",
   "name": "python3"
  },
  "language_info": {
   "codemirror_mode": {
    "name": "ipython",
    "version": 3
   },
   "file_extension": ".py",
   "mimetype": "text/x-python",
   "name": "python",
   "nbconvert_exporter": "python",
   "pygments_lexer": "ipython3",
   "version": "3.10.10"
  }
 },
 "nbformat": 4,
 "nbformat_minor": 5
}
