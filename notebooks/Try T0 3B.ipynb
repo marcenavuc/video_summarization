{
 "cells": [
  {
   "cell_type": "code",
   "execution_count": 1,
   "id": "c99dffe9",
   "metadata": {},
   "outputs": [],
   "source": [
    "!PROTOCOL_BUFFERS_PYTHON_IMPLEMENTATION=python"
   ]
  },
  {
   "cell_type": "code",
   "execution_count": null,
   "id": "ff0e8314",
   "metadata": {},
   "outputs": [],
   "source": [
    "# Can't run on my machine\n",
    "\n",
    "from transformers import AutoTokenizer, AutoModelForSeq2SeqLM\n",
    "\n",
    "tokenizer = AutoTokenizer.from_pretrained(\"bigscience/T0_3B\")\n",
    "model = AutoModelForSeq2SeqLM.from_pretrained(\"bigscience/T0_3B\")\n",
    "\n",
    "inputs = tokenizer.encode(\"Is this review positive ors negative? Review: this is the best cast iron skillet you will ever buy\", return_tensors=\"pt\")\n",
    "outputs = model.generate(inputs)\n",
    "print(tokenizer.decode(outputs[0]))"
   ]
  },
  {
   "cell_type": "code",
   "execution_count": null,
   "id": "f7aea01f",
   "metadata": {},
   "outputs": [],
   "source": []
  }
 ],
 "metadata": {
  "kernelspec": {
   "display_name": "Python 3 (ipykernel)",
   "language": "python",
   "name": "python3"
  },
  "language_info": {
   "codemirror_mode": {
    "name": "ipython",
    "version": 3
   },
   "file_extension": ".py",
   "mimetype": "text/x-python",
   "name": "python",
   "nbconvert_exporter": "python",
   "pygments_lexer": "ipython3",
   "version": "3.10.10"
  }
 },
 "nbformat": 4,
 "nbformat_minor": 5
}
