{
 "cells": [
  {
   "cell_type": "code",
   "execution_count": null,
   "id": "622e945b-44ff-4e49-9916-01cbf6e98539",
   "metadata": {},
   "outputs": [],
   "source": [
    "import os\n",
    "import json\n",
    "\n",
    "import torch"
   ]
  },
  {
   "cell_type": "code",
   "execution_count": 2,
   "id": "b2e8c502-c10f-4ebf-a534-ce312125bcbb",
   "metadata": {},
   "outputs": [
    {
     "data": {
      "text/plain": [
       "{'instruction': '\\n        Summarize the video by description data\\n\\n         second                                        text_ic                             text_asr\\n      0  a desert landscape with a few small buildings               Take care to theiruts,\\n      1  a desert landscape with a few small buildings               Take care to theiruts,\\n      2       a desert area with a few small buildings               Take care to theiruts,\\n      3       a desert area with a few small buildings               Take care to theiruts,\\n      4  a desert landscape with a few small buildings   please turn your room on the hall.\\n      5       a desert area with a few small buildings   please turn your room on the hall.\\n      6  a desert landscape with a few small buildings   please turn your room on the hall.\\n      7  a desert landscape with a few small buildings   please turn your room on the hall.\\n      8  a desert landscape with a few small buildings   please turn your room on the hall.\\n      9       a desert area with a few small buildings                                     \\n     10  a desert landscape with a few small buildings                                     \\n     11  a desert landscape with a few small buildings                                     \\n     12  a desert landscape with a few small buildings                                     \\n     13  a desert landscape with a few small buildings                                     \\n     14  a desert landscape with a few small buildings                                     \\n     15  a desert landscape with a few small buildings                                     \\n     16  a desert landscape with a few small buildings                                     \\n     17  a desert landscape with a few small buildings                                     \\n     18  a desert landscape with a few small buildings                                     \\n     19  a desert landscape with a few small buildings                                     \\n     20  a desert landscape with a few small buildings                                     \\n     21       a desert area with a few small buildings                                     \\n     22  a desert landscape with a few small buildings                                     \\n     23  a desert landscape with a few small buildings                                     \\n     24  a desert landscape with a few small buildings                                     \\n     25  a desert landscape with a few small buildings                                     \\n     26  a desert landscape with a few small buildings                                     \\n     27           a sandy beach with a few small boats                                     \\n     28  a desert landscape with a few small buildings                                     \\n     29  a desert landscape with a few small buildings                                     \\n     30  a desert landscape with a few small buildings                                     \\n     31  a desert landscape with a few small buildings                                     \\n     32  a desert landscape with a few small buildings                                     \\n     33  a desert landscape with a few small buildings                                     \\n     34  a desert landscape with a few small buildings                                     \\n     35  a desert landscape with a few small buildings                                     \\n     36  a desert landscape with a few small buildings                                     \\n     37  a desert landscape with a few small buildings                                     \\n     38       a blurry photo of a person standing in a                                     \\n     39          a blurry photo of a sheep in the dirt                                     \\n     40           a blurry photo of a sheep in a field                                     \\n     41         a blurry photo of a small white object                                     \\n     42       an old fashioned photo of a small animal                                     \\n     43    a brown and white animal standing on top of                                     \\n     44      a small brown animal standing on top of a                                     \\n     45            an old photo of a small animal on a                                     \\n     46           a blurry photo of a rock wall with a                                     \\n     47                 an old photo of a small animal                                     \\n     48              an animal is standing in the dirt                                     \\n     49                 an old photo of a small animal                                     \\n     50       a brown and white cow standing next to a                                     \\n     51       an old fashioned photo of a small animal                                     \\n     52      a small brown animal standing on top of a                                     \\n     53       an animal is standing in the middle of a                                     \\n     54     a blurry photo of a brown and white animal                                     \\n\\n        Return summarization as table with columns: second, importance. importance should be from 0 to 1.\\n        Summarization should has following structure:\\n        Second Importance\\n        <start_second>  <importance>\\n        ....\\n        <end_second>   <importance>\\n        ',\n",
       " 'output': '\\nSecond Importance \\n0 0.0\\n1 0.0\\n2 0.06666666666666667\\n3 0.06666666666666667\\n4 0.06666666666666667\\n5 0.2\\n6 0.13333333333333333\\n7 0.06666666666666667\\n8 0.06666666666666667\\n9 0.0\\n10 0.0\\n11 0.0\\n12 0.0\\n13 0.0\\n14 0.0\\n15 0.0\\n16 0.0\\n17 0.0\\n18 0.0\\n19 0.0\\n20 0.06666666666666667\\n21 0.06666666666666667\\n22 0.06666666666666667\\n23 0.06666666666666667\\n24 0.06666666666666667\\n25 0.06666666666666667\\n26 0.0\\n27 0.0\\n28 0.0\\n29 0.0\\n30 0.0\\n31 0.0\\n32 0.0\\n33 0.0\\n34 0.06666666666666667\\n35 0.0\\n36 0.0\\n37 0.13333333333333333\\n38 0.3333333333333333\\n39 0.26666666666666666\\n40 0.2\\n41 0.06666666666666667\\n42 0.0\\n43 0.0\\n44 0.0\\n45 0.0\\n46 0.0\\n47 0.0\\n48 0.0\\n49 0.0\\n50 0.0\\n51 0.0\\n52 0.0\\n53 0.0\\n54 0.0\\n',\n",
       " 'input': ''}"
      ]
     },
     "execution_count": 2,
     "metadata": {},
     "output_type": "execute_result"
    }
   ],
   "source": [
    "with open(\"instructions.json\") as file:\n",
    "    instructions = json.loads(file.read())\n",
    "    \n",
    "instructions[0]"
   ]
  },
  {
   "cell_type": "code",
   "execution_count": 4,
   "id": "9323551f-4d35-4ca9-b302-d37c59bac0b8",
   "metadata": {},
   "outputs": [
    {
     "name": "stdout",
     "output_type": "stream",
     "text": [
      "\n",
      "        Summarize the video by description data\n",
      "\n",
      "         second                                        text_ic                             text_asr\n",
      "      0  a desert landscape with a few small buildings               Take care to theiruts,\n",
      "      1  a desert landscape with a few small buildings               Take care to theiruts,\n",
      "      2       a desert area with a few small buildings               Take care to theiruts,\n",
      "      3       a desert area with a few small buildings               Take care to theiruts,\n",
      "      4  a desert landscape with a few small buildings   please turn your room on the hall.\n",
      "      5       a desert area with a few small buildings   please turn your room on the hall.\n",
      "      6  a desert landscape with a few small buildings   please turn your room on the hall.\n",
      "      7  a desert landscape with a few small buildings   please turn your room on the hall.\n",
      "      8  a desert landscape with a few small buildings   please turn your room on the hall.\n",
      "      9       a desert area with a few small buildings                                     \n",
      "     10  a desert landscape with a few small buildings                                     \n",
      "     11  a desert landscape with a few small buildings                                     \n",
      "     12  a desert landscape with a few small buildings                                     \n",
      "     13  a desert landscape with a few small buildings                                     \n",
      "     14  a desert landscape with a few small buildings                                     \n",
      "     15  a desert landscape with a few small buildings                                     \n",
      "     16  a desert landscape with a few small buildings                                     \n",
      "     17  a desert landscape with a few small buildings                                     \n",
      "     18  a desert landscape with a few small buildings                                     \n",
      "     19  a desert landscape with a few small buildings                                     \n",
      "     20  a desert landscape with a few small buildings                                     \n",
      "     21       a desert area with a few small buildings                                     \n",
      "     22  a desert landscape with a few small buildings                                     \n",
      "     23  a desert landscape with a few small buildings                                     \n",
      "     24  a desert landscape with a few small buildings                                     \n",
      "     25  a desert landscape with a few small buildings                                     \n",
      "     26  a desert landscape with a few small buildings                                     \n",
      "     27           a sandy beach with a few small boats                                     \n",
      "     28  a desert landscape with a few small buildings                                     \n",
      "     29  a desert landscape with a few small buildings                                     \n",
      "     30  a desert landscape with a few small buildings                                     \n",
      "     31  a desert landscape with a few small buildings                                     \n",
      "     32  a desert landscape with a few small buildings                                     \n",
      "     33  a desert landscape with a few small buildings                                     \n",
      "     34  a desert landscape with a few small buildings                                     \n",
      "     35  a desert landscape with a few small buildings                                     \n",
      "     36  a desert landscape with a few small buildings                                     \n",
      "     37  a desert landscape with a few small buildings                                     \n",
      "     38       a blurry photo of a person standing in a                                     \n",
      "     39          a blurry photo of a sheep in the dirt                                     \n",
      "     40           a blurry photo of a sheep in a field                                     \n",
      "     41         a blurry photo of a small white object                                     \n",
      "     42       an old fashioned photo of a small animal                                     \n",
      "     43    a brown and white animal standing on top of                                     \n",
      "     44      a small brown animal standing on top of a                                     \n",
      "     45            an old photo of a small animal on a                                     \n",
      "     46           a blurry photo of a rock wall with a                                     \n",
      "     47                 an old photo of a small animal                                     \n",
      "     48              an animal is standing in the dirt                                     \n",
      "     49                 an old photo of a small animal                                     \n",
      "     50       a brown and white cow standing next to a                                     \n",
      "     51       an old fashioned photo of a small animal                                     \n",
      "     52      a small brown animal standing on top of a                                     \n",
      "     53       an animal is standing in the middle of a                                     \n",
      "     54     a blurry photo of a brown and white animal                                     \n",
      "\n",
      "        Return summarization as table with columns: second, importance. importance should be from 0 to 1.\n",
      "        Summarization should has following structure:\n",
      "        Second Importance\n",
      "        <start_second>  <importance>\n",
      "        ....\n",
      "        <end_second>   <importance>\n",
      "        \n"
     ]
    }
   ],
   "source": [
    "# X\n",
    "print(instructions[0]['instruction'])"
   ]
  },
  {
   "cell_type": "code",
   "execution_count": 7,
   "id": "9e59feb6-91db-4e42-84b6-5d1ca38c3ccc",
   "metadata": {},
   "outputs": [
    {
     "data": {
      "application/vnd.jupyter.widget-view+json": {
       "model_id": "9b22fd29483f40f7b4b3c28c32ed6c9c",
       "version_major": 2,
       "version_minor": 0
      },
      "text/plain": [
       "Downloading (…)/main/tokenizer.json:   0%|          | 0.00/466k [00:00<?, ?B/s]"
      ]
     },
     "metadata": {},
     "output_type": "display_data"
    },
    {
     "name": "stdout",
     "output_type": "stream",
     "text": [
      "Tokenizer input max length: 512\n",
      "Tokenizer vocabulary size: 30522\n"
     ]
    }
   ],
   "source": [
    "from transformers import AutoTokenizer\n",
    "\n",
    "tokenizer = AutoTokenizer.from_pretrained(\"distilbert-base-uncased\")\n",
    "print(\"Tokenizer input max length:\", tokenizer.model_max_length)\n",
    "print(\"Tokenizer vocabulary size:\", tokenizer.vocab_size)"
   ]
  },
  {
   "cell_type": "code",
   "execution_count": 17,
   "id": "e3136fae-e007-4a0e-b8c1-16f9e629ef0c",
   "metadata": {},
   "outputs": [
    {
     "data": {
      "text/plain": [
       "642"
      ]
     },
     "execution_count": 17,
     "metadata": {},
     "output_type": "execute_result"
    }
   ],
   "source": [
    "tokens = tokenizer(instructions[0]['instruction'], padding=True)\n",
    "len(tokens['input_ids'])"
   ]
  },
  {
   "cell_type": "code",
   "execution_count": null,
   "id": "f66a1cd2-0213-4740-a0b5-95c77e4f9659",
   "metadata": {},
   "outputs": [],
   "source": []
  }
 ],
 "metadata": {
  "kernelspec": {
   "display_name": "Python 3 (ipykernel)",
   "language": "python",
   "name": "python3"
  },
  "language_info": {
   "codemirror_mode": {
    "name": "ipython",
    "version": 3
   },
   "file_extension": ".py",
   "mimetype": "text/x-python",
   "name": "python",
   "nbconvert_exporter": "python",
   "pygments_lexer": "ipython3",
   "version": "3.10.10"
  }
 },
 "nbformat": 4,
 "nbformat_minor": 5
}
