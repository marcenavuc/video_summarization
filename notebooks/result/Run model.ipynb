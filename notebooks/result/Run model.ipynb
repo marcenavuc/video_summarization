{
 "cells": [
  {
   "cell_type": "markdown",
   "id": "bfb35456",
   "metadata": {},
   "source": [
    "## Load Dataset"
   ]
  },
  {
   "cell_type": "code",
   "execution_count": 1,
   "id": "29e825a1",
   "metadata": {},
   "outputs": [
    {
     "data": {
      "text/plain": [
       "{'summe': '/media/mark/ADATA HV620S/diplom/PGL-SUM/data/SumMe/eccv16_dataset_summe_google_pool5.h5',\n",
       " 'tvsum': '/media/mark/ADATA HV620S/diplom/PGL-SUM/data/TVSum/eccv16_dataset_tvsum_google_pool5.h5'}"
      ]
     },
     "execution_count": 1,
     "metadata": {},
     "output_type": "execute_result"
    }
   ],
   "source": [
    "# TODO: find how this dataset was prepared\n",
    "import h5py\n",
    "import numpy as np\n",
    "\n",
    "from pathlib import Path\n",
    "\n",
    "\n",
    "DATASET_PATH = Path('/media/mark/ADATA HV620S/diplom/PGL-SUM/data')\n",
    "\n",
    "\n",
    "DATASETS = {\n",
    "    \"summe\": str(DATASET_PATH / 'SumMe/eccv16_dataset_summe_google_pool5.h5'),\n",
    "    \"tvsum\": str(DATASET_PATH / 'TVSum/eccv16_dataset_tvsum_google_pool5.h5'),\n",
    "}\n",
    "\n",
    "DATASETS"
   ]
  },
  {
   "cell_type": "code",
   "execution_count": 2,
   "id": "3c7951ce",
   "metadata": {},
   "outputs": [],
   "source": [
    "hdf = h5py.File(DATASETS['summe'], 'r')"
   ]
  },
  {
   "cell_type": "code",
   "execution_count": 3,
   "id": "f0aefbc7",
   "metadata": {},
   "outputs": [
    {
     "data": {
      "text/plain": [
       "<HDF5 file \"eccv16_dataset_summe_google_pool5.h5\" (mode r)>"
      ]
     },
     "execution_count": 3,
     "metadata": {},
     "output_type": "execute_result"
    }
   ],
   "source": [
    "hdf"
   ]
  },
  {
   "cell_type": "code",
   "execution_count": 4,
   "id": "183de697",
   "metadata": {},
   "outputs": [
    {
     "data": {
      "text/plain": [
       "<KeysViewHDF5 ['video_1', 'video_10', 'video_11', 'video_12', 'video_13', 'video_14', 'video_15', 'video_16', 'video_17', 'video_18', 'video_19', 'video_2', 'video_20', 'video_21', 'video_22', 'video_23', 'video_24', 'video_25', 'video_3', 'video_4', 'video_5', 'video_6', 'video_7', 'video_8', 'video_9']>"
      ]
     },
     "execution_count": 4,
     "metadata": {},
     "output_type": "execute_result"
    }
   ],
   "source": [
    "hdf.keys()"
   ]
  },
  {
   "cell_type": "code",
   "execution_count": 5,
   "id": "532b09b8",
   "metadata": {},
   "outputs": [
    {
     "data": {
      "text/plain": [
       "<KeysViewHDF5 ['change_points', 'features', 'gtscore', 'gtsummary', 'n_frame_per_seg', 'n_frames', 'n_steps', 'picks', 'user_summary', 'video_name']>"
      ]
     },
     "execution_count": 5,
     "metadata": {},
     "output_type": "execute_result"
    }
   ],
   "source": [
    " hdf['video_1'].keys()"
   ]
  },
  {
   "cell_type": "code",
   "execution_count": 6,
   "id": "6e7a0abd",
   "metadata": {},
   "outputs": [
    {
     "data": {
      "text/plain": [
       "(300, 1024)"
      ]
     },
     "execution_count": 6,
     "metadata": {},
     "output_type": "execute_result"
    }
   ],
   "source": [
    "features = np.array(hdf['video_1']['features'])\n",
    "features.shape"
   ]
  },
  {
   "cell_type": "code",
   "execution_count": 7,
   "id": "e7c3bed1",
   "metadata": {},
   "outputs": [
    {
     "data": {
      "text/plain": [
       "array([[   0,  244],\n",
       "       [ 245,  473],\n",
       "       [ 474,  827],\n",
       "       [ 828, 1081],\n",
       "       [1082, 1233],\n",
       "       [1234, 1438],\n",
       "       [1439, 1530],\n",
       "       [1531, 1642],\n",
       "       [1643, 1796],\n",
       "       [1797, 1973],\n",
       "       [1974, 1998],\n",
       "       [1999, 2110],\n",
       "       [2111, 2403],\n",
       "       [2404, 2539],\n",
       "       [2540, 2664],\n",
       "       [2665, 2908],\n",
       "       [2909, 3160],\n",
       "       [3161, 3370],\n",
       "       [3371, 3521],\n",
       "       [3522, 3649],\n",
       "       [3650, 3899],\n",
       "       [3900, 3940],\n",
       "       [3941, 3990],\n",
       "       [3991, 4034],\n",
       "       [4035, 4079],\n",
       "       [4080, 4138],\n",
       "       [4139, 4228],\n",
       "       [4229, 4285],\n",
       "       [4286, 4342],\n",
       "       [4343, 4493]])"
      ]
     },
     "execution_count": 7,
     "metadata": {},
     "output_type": "execute_result"
    }
   ],
   "source": [
    " np.array(hdf['video_1']['change_points'])"
   ]
  },
  {
   "cell_type": "code",
   "execution_count": 8,
   "id": "89f378bb",
   "metadata": {},
   "outputs": [
    {
     "data": {
      "text/plain": [
       "array([0.        , 0.        , 0.        , 0.        , 0.06666667,\n",
       "       0.06666667, 0.06666667, 0.06666667, 0.13333334, 0.13333334,\n",
       "       0.13333334, 0.13333334, 0.06666667, 0.06666667, 0.13333334,\n",
       "       0.06666667, 0.13333334, 0.13333334, 0.06666667, 0.2       ,\n",
       "       0.13333334, 0.13333334, 0.13333334, 0.06666667, 0.06666667,\n",
       "       0.        , 0.06666667, 0.06666667, 0.13333334, 0.06666667,\n",
       "       0.06666667, 0.06666667, 0.06666667, 0.        , 0.        ,\n",
       "       0.        , 0.        , 0.        , 0.        , 0.        ,\n",
       "       0.        , 0.        , 0.        , 0.        , 0.        ,\n",
       "       0.        , 0.        , 0.        , 0.        , 0.        ,\n",
       "       0.        , 0.06666667, 0.06666667, 0.13333334, 0.13333334,\n",
       "       0.06666667, 0.        , 0.06666667, 0.06666667, 0.06666667,\n",
       "       0.        , 0.        , 0.        , 0.        , 0.        ,\n",
       "       0.        , 0.        , 0.        , 0.        , 0.        ,\n",
       "       0.        , 0.        , 0.        , 0.        , 0.06666667,\n",
       "       0.06666667, 0.06666667, 0.13333334, 0.        , 0.        ,\n",
       "       0.        , 0.        , 0.        , 0.        , 0.06666667,\n",
       "       0.06666667, 0.06666667, 0.06666667, 0.2       , 0.13333334,\n",
       "       0.13333334, 0.06666667, 0.06666667, 0.13333334, 0.13333334,\n",
       "       0.26666668, 0.2       , 0.06666667, 0.13333334, 0.13333334,\n",
       "       0.13333334, 0.13333334, 0.06666667, 0.13333334, 0.2       ,\n",
       "       0.13333334, 0.13333334, 0.13333334, 0.13333334, 0.13333334,\n",
       "       0.13333334, 0.2       , 0.2       , 0.2       , 0.26666668,\n",
       "       0.2       , 0.2       , 0.2       , 0.26666668, 0.26666668,\n",
       "       0.26666668, 0.26666668, 0.46666667, 0.46666667, 0.46666667,\n",
       "       0.4       , 0.4       , 0.53333336, 0.73333335, 0.73333335,\n",
       "       0.8       , 0.8       , 0.73333335, 0.73333335, 0.6666667 ,\n",
       "       0.6666667 , 0.6666667 , 0.6       , 0.53333336, 0.46666667,\n",
       "       0.46666667, 0.53333336, 0.53333336, 0.33333334, 0.2       ,\n",
       "       0.2       , 0.06666667, 0.        , 0.        , 0.06666667,\n",
       "       0.06666667, 0.06666667, 0.06666667, 0.06666667, 0.06666667,\n",
       "       0.06666667, 0.06666667, 0.06666667, 0.13333334, 0.13333334,\n",
       "       0.13333334, 0.06666667, 0.06666667, 0.        , 0.        ,\n",
       "       0.06666667, 0.06666667, 0.06666667, 0.06666667, 0.06666667,\n",
       "       0.06666667, 0.13333334, 0.13333334, 0.2       , 0.06666667,\n",
       "       0.06666667, 0.06666667, 0.06666667, 0.        , 0.        ,\n",
       "       0.        , 0.        , 0.        , 0.        , 0.        ,\n",
       "       0.        , 0.        , 0.06666667, 0.06666667, 0.06666667,\n",
       "       0.        , 0.        , 0.        , 0.        , 0.        ,\n",
       "       0.        , 0.        , 0.06666667, 0.06666667, 0.        ,\n",
       "       0.        , 0.06666667, 0.06666667, 0.06666667, 0.06666667,\n",
       "       0.13333334, 0.13333334, 0.06666667, 0.06666667, 0.06666667,\n",
       "       0.06666667, 0.06666667, 0.06666667, 0.06666667, 0.13333334,\n",
       "       0.13333334, 0.13333334, 0.13333334, 0.13333334, 0.06666667,\n",
       "       0.06666667, 0.06666667, 0.        , 0.        , 0.        ,\n",
       "       0.06666667, 0.06666667, 0.06666667, 0.06666667, 0.06666667,\n",
       "       0.06666667, 0.06666667, 0.        , 0.        , 0.        ,\n",
       "       0.        , 0.        , 0.        , 0.        , 0.        ,\n",
       "       0.        , 0.        , 0.        , 0.        , 0.        ,\n",
       "       0.        , 0.        , 0.        , 0.        , 0.        ,\n",
       "       0.        , 0.06666667, 0.06666667, 0.13333334, 0.13333334,\n",
       "       0.13333334, 0.13333334, 0.13333334, 0.13333334, 0.2       ,\n",
       "       0.26666668, 0.33333334, 0.4       , 0.46666667, 0.4       ,\n",
       "       0.4       , 0.53333336, 0.53333336, 0.6       , 0.6       ,\n",
       "       0.6       , 0.6666667 , 0.6       , 0.6       , 0.53333336,\n",
       "       0.46666667, 0.53333336, 0.53333336, 0.53333336, 0.4       ,\n",
       "       0.33333334, 0.26666668, 0.26666668, 0.26666668, 0.26666668,\n",
       "       0.26666668, 0.2       , 0.2       , 0.2       , 0.2       ,\n",
       "       0.26666668, 0.2       , 0.13333334, 0.        , 0.        ,\n",
       "       0.        , 0.        , 0.        , 0.        , 0.        ],\n",
       "      dtype=float32)"
      ]
     },
     "execution_count": 8,
     "metadata": {},
     "output_type": "execute_result"
    }
   ],
   "source": [
    "np.array(hdf['video_1']['gtscore'])"
   ]
  },
  {
   "cell_type": "code",
   "execution_count": 9,
   "id": "bdb8b889",
   "metadata": {},
   "outputs": [
    {
     "data": {
      "text/plain": [
       "array(b'Air_Force_One', dtype=object)"
      ]
     },
     "execution_count": 9,
     "metadata": {},
     "output_type": "execute_result"
    }
   ],
   "source": [
    " np.array(hdf['video_1']['video_name'])"
   ]
  },
  {
   "cell_type": "code",
   "execution_count": 10,
   "id": "3ef1b20b",
   "metadata": {},
   "outputs": [],
   "source": [
    "hdf.close()"
   ]
  },
  {
   "cell_type": "markdown",
   "id": "cd2465b3",
   "metadata": {},
   "source": [
    "## DataLoader"
   ]
  },
  {
   "cell_type": "code",
   "execution_count": null,
   "id": "ed7a8dc4",
   "metadata": {},
   "outputs": [],
   "source": []
  },
  {
   "cell_type": "markdown",
   "id": "f9ffe02a",
   "metadata": {},
   "source": [
    "## Model"
   ]
  },
  {
   "cell_type": "code",
   "execution_count": 11,
   "id": "613d7f4d",
   "metadata": {},
   "outputs": [],
   "source": [
    "import torch\n",
    "import numpy as np\n",
    "import random\n",
    "\n",
    "\n",
    "SEED = 1\n",
    "\n",
    "torch.manual_seed(SEED)\n",
    "torch.cuda.manual_seed_all(SEED)\n",
    "np.random.seed(SEED)\n",
    "random.seed(SEED)"
   ]
  },
  {
   "cell_type": "code",
   "execution_count": 14,
   "id": "2f097d07",
   "metadata": {},
   "outputs": [
    {
     "ename": "ModuleNotFoundError",
     "evalue": "No module named 'layers'",
     "output_type": "error",
     "traceback": [
      "\u001b[0;31m---------------------------------------------------------------------------\u001b[0m",
      "\u001b[0;31mModuleNotFoundError\u001b[0m                       Traceback (most recent call last)",
      "Cell \u001b[0;32mIn[14], line 2\u001b[0m\n\u001b[1;32m      1\u001b[0m \u001b[38;5;66;03m# Load before 2 train dataloader and test dataloader\u001b[39;00m\n\u001b[0;32m----> 2\u001b[0m \u001b[38;5;28;01mfrom\u001b[39;00m \u001b[38;5;21;01mlayers\u001b[39;00m\u001b[38;5;21;01m.\u001b[39;00m\u001b[38;5;21;01msummarizer\u001b[39;00m \u001b[38;5;28;01mimport\u001b[39;00m PGL_SUM\n\u001b[1;32m      6\u001b[0m model \u001b[38;5;241m=\u001b[39m PGL_SUM(input_size\u001b[38;5;241m=\u001b[39m\u001b[38;5;28mself\u001b[39m\u001b[38;5;241m.\u001b[39mconfig\u001b[38;5;241m.\u001b[39minput_size,\n\u001b[1;32m      7\u001b[0m                      output_size\u001b[38;5;241m=\u001b[39m\u001b[38;5;28mself\u001b[39m\u001b[38;5;241m.\u001b[39mconfig\u001b[38;5;241m.\u001b[39minput_size,\n\u001b[1;32m      8\u001b[0m                      num_segments\u001b[38;5;241m=\u001b[39m\u001b[38;5;28mself\u001b[39m\u001b[38;5;241m.\u001b[39mconfig\u001b[38;5;241m.\u001b[39mn_segments,\n\u001b[1;32m      9\u001b[0m                      heads\u001b[38;5;241m=\u001b[39m\u001b[38;5;28mself\u001b[39m\u001b[38;5;241m.\u001b[39mconfig\u001b[38;5;241m.\u001b[39mheads,\n\u001b[1;32m     10\u001b[0m                      fusion\u001b[38;5;241m=\u001b[39m\u001b[38;5;28mself\u001b[39m\u001b[38;5;241m.\u001b[39mconfig\u001b[38;5;241m.\u001b[39mfusion,\n\u001b[1;32m     11\u001b[0m                      pos_enc\u001b[38;5;241m=\u001b[39m\u001b[38;5;28mself\u001b[39m\u001b[38;5;241m.\u001b[39mconfig\u001b[38;5;241m.\u001b[39mpos_enc)\u001b[38;5;241m.\u001b[39mto(\u001b[38;5;28mself\u001b[39m\u001b[38;5;241m.\u001b[39mconfig\u001b[38;5;241m.\u001b[39mdevice)\n\u001b[1;32m     13\u001b[0m \u001b[38;5;28;01mif\u001b[39;00m \u001b[38;5;28mself\u001b[39m\u001b[38;5;241m.\u001b[39mconfig\u001b[38;5;241m.\u001b[39minit_type \u001b[38;5;129;01mis\u001b[39;00m \u001b[38;5;129;01mnot\u001b[39;00m \u001b[38;5;28;01mNone\u001b[39;00m:\n",
      "\u001b[0;31mModuleNotFoundError\u001b[0m: No module named 'layers'"
     ]
    }
   ],
   "source": [
    "# Load before 2 train dataloader and test dataloader\n",
    "from layers.summarizer import PGL_SUM\n",
    "\n",
    "\n",
    "\n",
    "model = PGL_SUM(input_size=self.config.input_size,\n",
    "                     output_size=self.config.input_size,\n",
    "                     num_segments=self.config.n_segments,\n",
    "                     heads=self.config.heads,\n",
    "                     fusion=self.config.fusion,\n",
    "                     pos_enc=self.config.pos_enc).to(self.config.device)\n",
    "\n",
    "if self.config.init_type is not None:\n",
    "    self.init_weights(self.model, init_type=self.config.init_type, init_gain=self.config.init_gain)\n",
    "\n",
    "if self.config.mode == 'train':\n",
    "    # Optimizer initialization\n",
    "    self.optimizer = optim.Adam(self.model.parameters(), lr=self.config.lr, weight_decay=self.config.l2_req)\n",
    "    self.writer = TensorboardWriter(str(self.config.log_dir))"
   ]
  },
  {
   "cell_type": "code",
   "execution_count": 16,
   "id": "640905c1",
   "metadata": {},
   "outputs": [
    {
     "name": "stdout",
     "output_type": "stream",
     "text": [
      "evaluation  layers\tmodel\t   README.md\t     venv\r\n",
      "inference   LICENSE.md\tnotebooks  requirements.txt\r\n"
     ]
    }
   ],
   "source": [
    "!ls .."
   ]
  },
  {
   "cell_type": "code",
   "execution_count": null,
   "id": "0b6db916",
   "metadata": {},
   "outputs": [],
   "source": []
  }
 ],
 "metadata": {
  "kernelspec": {
   "display_name": "Python 3 (ipykernel)",
   "language": "python",
   "name": "python3"
  },
  "language_info": {
   "codemirror_mode": {
    "name": "ipython",
    "version": 3
   },
   "file_extension": ".py",
   "mimetype": "text/x-python",
   "name": "python",
   "nbconvert_exporter": "python",
   "pygments_lexer": "ipython3",
   "version": "3.10.6"
  }
 },
 "nbformat": 4,
 "nbformat_minor": 5
}
